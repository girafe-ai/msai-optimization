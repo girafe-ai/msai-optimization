{
 "cells": [
  {
   "cell_type": "markdown",
   "metadata": {
    "slideshow": {
     "slide_type": "slide"
    }
   },
   "source": [
    "# Seminar 9\n",
    "# Intro to stochastic first-order methods"
   ]
  },
  {
   "cell_type": "markdown",
   "metadata": {
    "slideshow": {
     "slide_type": "slide"
    }
   },
   "source": [
    "## Problem statement\n",
    "\n",
    "$$\n",
    "\\min_x \\sum_{i=1}^N f_i(x)\n",
    "$$\n",
    "\n",
    "- Objective function is a sum of finite number of functions\n",
    "- $N$ can be really huge"
   ]
  },
  {
   "cell_type": "markdown",
   "metadata": {
    "collapsed": true,
    "slideshow": {
     "slide_type": "slide"
    }
   },
   "source": [
    "### Problem features\n",
    "\n",
    "- Computing an exact gradient takes a lot of time\n",
    "- High accuracy in solving such problems is not required\n",
    "- Introducing randomness is feasible"
   ]
  },
  {
   "cell_type": "markdown",
   "metadata": {
    "collapsed": true,
    "slideshow": {
     "slide_type": "slide"
    }
   },
   "source": [
    "### Gradient descent\n",
    "\n",
    "$$\n",
    "x_{k+1} = x_{k} - \\alpha_k \\sum_{i=1}^N f_i'(x_k)\n",
    "$$\n",
    "- $\\alpha_k$ is a small step size"
   ]
  },
  {
   "cell_type": "markdown",
   "metadata": {
    "slideshow": {
     "slide_type": "slide"
    }
   },
   "source": [
    "## SGD\n",
    "\n",
    "$$\n",
    "x_{k+1} = x_k - \\alpha_k \\sum_{i \\in \\mathcal{I}} f'_i(x_k)\n",
    "$$\n",
    "\n",
    "Convergence\n",
    "\n",
    "- Convex functions:  $\\mathcal{O}(1 / \\sqrt{k})$\n",
    "- Strongly convex functions: $\\mathcal{O}(1 / k)$"
   ]
  },
  {
   "cell_type": "markdown",
   "metadata": {
    "slideshow": {
     "slide_type": "slide"
    }
   },
   "source": [
    "### Nesterov momentum\n",
    "\n",
    "$$\n",
    "\\begin{align*}\n",
    "& h_k = \\beta h_{k-1} - \\alpha_k \\sum_{i\\in \\mathcal{I}} f'_i(x_k + \\alpha_k h_k)\\\\\n",
    "& x_{k+1} = x_k + h_k\n",
    "\\end{align*}\n",
    "$$\n",
    "\n",
    "- It does not lead to acceleration in theory\n",
    "- Why?"
   ]
  },
  {
   "cell_type": "markdown",
   "metadata": {
    "slideshow": {
     "slide_type": "slide"
    }
   },
   "source": [
    "## Adagrad\n",
    "\n",
    "\\begin{align*}\n",
    "& g_k = \\sum_{i \\in \\mathcal{I}} f'_i(x_k)\\\\\n",
    "& r = r + g_k \\cdot g_k\\\\\n",
    "& h_k = -\\frac{\\varepsilon}{\\delta + \\sqrt{r}} \\cdot g_k\\\\\n",
    "& x_{k+1} = x_k + h_k\n",
    "\\end{align*}\n",
    "\n",
    "- Diagonal scaling of the gradient\n",
    "- Considering **all** previously generated points to compute the next point\n",
    "- It does not lead to acceleration in theory"
   ]
  },
  {
   "cell_type": "markdown",
   "metadata": {
    "slideshow": {
     "slide_type": "slide"
    }
   },
   "source": [
    "## Adam\n",
    "\n",
    "\\begin{align*}\n",
    "& g_k = \\sum_{i \\in \\mathcal{I}} f'_i(x_k)\\\\\n",
    "& r = \\rho_2r + (1 - \\rho_2) g_k \\cdot g_k\\\\\n",
    "& s = \\rho_1 s + (1 - \\rho_1) g_k\\\\\n",
    "& \\hat{s} = \\frac{s}{1 - \\rho_1^k}\\\\\n",
    "& \\hat{r} = \\frac{r}{1 - \\rho_2^k}\\\\\n",
    "& h_k = -\\frac{\\varepsilon \\hat{s}}{\\delta + \\sqrt{\\hat{r}}} \\\\\n",
    "& x_{k+1} = x_k + h_k\n",
    "\\end{align*}"
   ]
  },
  {
   "cell_type": "markdown",
   "metadata": {
    "collapsed": true,
    "slideshow": {
     "slide_type": "slide"
    }
   },
   "source": [
    "## Applications\n",
    "\n",
    "- All neural networks applications \n",
    "    - Computer vision\n",
    "    - Reinforcement learning\n",
    "    - GAN\n",
    "\n",
    "- Any cases, where high accuracy is not required but high speed of every iteration is needed"
   ]
  },
  {
   "cell_type": "markdown",
   "metadata": {
    "slideshow": {
     "slide_type": "slide"
    }
   },
   "source": [
    "## Main aspects that affect convergence\n",
    "\n",
    "- Initialization: Xavier, LeCun, Kaiming, and many others\n",
    "- Neural network architecture: wide vs. narrow local minima\n",
    "\n",
    "<img src=\"./sharp_flat_min.png\" width=400>\n",
    "\n",
    "The source of the picture is [here](https://proceedings.neurips.cc/paper/2018/file/a41b3bb3e6b050b6c9067c67f663b915-Paper.pdf)."
   ]
  },
  {
   "cell_type": "markdown",
   "metadata": {
    "slideshow": {
     "slide_type": "slide"
    }
   },
   "source": [
    "### Step size selection\n",
    "\n",
    "- Constant\n",
    "- Decreasing\n",
    "- Non-monotone"
   ]
  },
  {
   "cell_type": "markdown",
   "metadata": {
    "slideshow": {
     "slide_type": "slide"
    }
   },
   "source": [
    "### Constant step size\n",
    "\n",
    "- Default choice for many applications\n",
    "- If it will be too large, the gradients can explode and the training diverges\n",
    "- If it will be too small, the convergence will be very slow and local minimum issues are possible\n",
    "\n",
    "<img src=\"./step_sizes.png\" width=400>"
   ]
  },
  {
   "cell_type": "markdown",
   "metadata": {
    "slideshow": {
     "slide_type": "slide"
    }
   },
   "source": [
    "### Decreasing step size\n",
    "\n",
    "- Run optimization for some trial epochs with different step sizes\n",
    "- Plot the final observations ([from here](https://medium.com/vitalify-asia/whats-up-with-deep-learning-optimizers-since-adam-5c1d862b9db0))\n",
    "\n",
    "<img src=\"./clr.png\" width=300>\n",
    "\n",
    "- Then run complete optimization with the proper step sizes"
   ]
  },
  {
   "cell_type": "markdown",
   "metadata": {
    "slideshow": {
     "slide_type": "slide"
    }
   },
   "source": [
    "### Non-monotone step size\n",
    "\n",
    "- Sometimes warm-restart is a useful strategy for the step size\n",
    "- One of the most popular methods is CosineAnnealing\n",
    "\n",
    "<img src=\"cos_anneal.png\" width=500>\n",
    "\n",
    "- Update rule\n",
    "\n",
    "$$\\alpha_{k+1} = \\alpha_{\\min} +  \\frac{1}{2}\\left( \\alpha_{\\max} - \\alpha_{\\min} \\right) \\left(1 + \\cos\\left(\\pi \\frac{T_{i}}{T_{cycle}}\\right)\\right)  $$ \n",
    "- $(k+1)$-th epoch globally depends on the local number of epoch $T_i$ inside the current cycle of the lenght $T_{cycle}$"
   ]
  },
  {
   "cell_type": "code",
   "execution_count": 1,
   "metadata": {
    "slideshow": {
     "slide_type": "slide"
    }
   },
   "outputs": [],
   "source": [
    "import torch\n",
    "import torch.nn as nn\n",
    "import torch.nn.functional as F\n",
    "import torch.optim as optim\n",
    "from torchvision import datasets, transforms\n",
    "import matplotlib.pyplot as plt\n",
    "%matplotlib inline\n",
    "from IPython import display"
   ]
  },
  {
   "cell_type": "code",
   "execution_count": 2,
   "metadata": {
    "slideshow": {
     "slide_type": "slide"
    }
   },
   "outputs": [],
   "source": [
    "class Net(nn.Module):\n",
    "    def __init__(self):\n",
    "        super(Net, self).__init__()\n",
    "        self.conv1 = nn.Conv2d(1, 10, kernel_size=5)\n",
    "        self.conv2 = nn.Conv2d(10, 20, kernel_size=5)\n",
    "        self.conv2_drop = nn.Dropout2d()\n",
    "        self.fc1 = nn.Linear(320, 50)\n",
    "        self.fc2 = nn.Linear(50, 10)\n",
    "\n",
    "    def forward(self, x):\n",
    "        x = F.relu(F.max_pool2d(self.conv1(x), 2))\n",
    "        x = F.relu(F.max_pool2d(self.conv2_drop(self.conv2(x)), 2))\n",
    "        x = x.view(-1, 320)\n",
    "        x = F.relu(self.fc1(x))\n",
    "        x = F.dropout(x, training=self.training)\n",
    "        x = self.fc2(x)\n",
    "        return F.log_softmax(x, dim=1)\n",
    "\n",
    "def train(model, train_loader, optimizer, epoch, log_interval):\n",
    "    model.train()\n",
    "    current_conv = []\n",
    "    for batch_idx, (data, target) in enumerate(train_loader):\n",
    "#         data, target = data.to(device), target.to(device)\n",
    "        optimizer.zero_grad()\n",
    "        output = model(data)\n",
    "        loss = F.nll_loss(output, target)\n",
    "        loss.backward()\n",
    "        current_conv.append(loss)\n",
    "        optimizer.step()\n",
    "        if batch_idx % log_interval == 0:\n",
    "            print('Train Epoch: {} [{}/{} ({:.0f}%)]\\tLoss: {:.6f}'.format(\n",
    "                epoch, batch_idx * len(data), len(train_loader.dataset),\n",
    "                100. * batch_idx / len(train_loader), loss.item()))\n",
    "    return current_conv\n",
    "\n",
    "def test(model, test_loader):\n",
    "    model.eval()\n",
    "    test_loss = 0\n",
    "    correct = 0\n",
    "    with torch.no_grad():\n",
    "        for data, target in test_loader:\n",
    "#             data, target = data.to(device), target.to(device)\n",
    "            output = model(data)\n",
    "            test_loss += F.nll_loss(output, target, reduce=True).item() # sum up batch loss\n",
    "            pred = output.max(1, keepdim=True)[1] # get the index of the max log-probability\n",
    "            correct += pred.eq(target.view_as(pred)).sum().item()\n",
    "\n",
    "    test_loss /= len(test_loader.dataset)\n",
    "    print('\\nTest set: Average loss: {:.4f}, Accuracy: {}/{} ({:.0f}%)\\n'.format(\n",
    "        test_loss, correct, len(test_loader.dataset),\n",
    "        100. * correct / len(test_loader.dataset)))"
   ]
  },
  {
   "cell_type": "code",
   "execution_count": 3,
   "metadata": {
    "slideshow": {
     "slide_type": "slide"
    }
   },
   "outputs": [
    {
     "name": "stdout",
     "output_type": "stream",
     "text": [
      "Downloading http://yann.lecun.com/exdb/mnist/train-images-idx3-ubyte.gz to ../data/MNIST/raw/train-images-idx3-ubyte.gz\n"
     ]
    },
    {
     "data": {
      "application/vnd.jupyter.widget-view+json": {
       "model_id": "3ef4ca353b0e4f9cbb0369ac3a67e3fc",
       "version_major": 2,
       "version_minor": 0
      },
      "text/plain": [
       "HBox(children=(FloatProgress(value=1.0, bar_style='info', max=1.0), HTML(value='')))"
      ]
     },
     "metadata": {},
     "output_type": "display_data"
    },
    {
     "name": "stdout",
     "output_type": "stream",
     "text": [
      "Extracting ../data/MNIST/raw/train-images-idx3-ubyte.gz to ../data/MNIST/raw\n",
      "Downloading http://yann.lecun.com/exdb/mnist/train-labels-idx1-ubyte.gz to ../data/MNIST/raw/train-labels-idx1-ubyte.gz\n"
     ]
    },
    {
     "data": {
      "application/vnd.jupyter.widget-view+json": {
       "model_id": "303d1964982e4ec68e5729baf321b9b9",
       "version_major": 2,
       "version_minor": 0
      },
      "text/plain": [
       "HBox(children=(FloatProgress(value=1.0, bar_style='info', max=1.0), HTML(value='')))"
      ]
     },
     "metadata": {},
     "output_type": "display_data"
    },
    {
     "name": "stdout",
     "output_type": "stream",
     "text": [
      "Extracting ../data/MNIST/raw/train-labels-idx1-ubyte.gz to ../data/MNIST/raw\n",
      "Downloading http://yann.lecun.com/exdb/mnist/t10k-images-idx3-ubyte.gz to ../data/MNIST/raw/t10k-images-idx3-ubyte.gz\n",
      "\n"
     ]
    },
    {
     "data": {
      "application/vnd.jupyter.widget-view+json": {
       "model_id": "1bef1322f1474c46828468fc6a47956f",
       "version_major": 2,
       "version_minor": 0
      },
      "text/plain": [
       "HBox(children=(FloatProgress(value=1.0, bar_style='info', max=1.0), HTML(value='')))"
      ]
     },
     "metadata": {},
     "output_type": "display_data"
    },
    {
     "name": "stdout",
     "output_type": "stream",
     "text": [
      "Extracting ../data/MNIST/raw/t10k-images-idx3-ubyte.gz to ../data/MNIST/raw\n",
      "Downloading http://yann.lecun.com/exdb/mnist/t10k-labels-idx1-ubyte.gz to ../data/MNIST/raw/t10k-labels-idx1-ubyte.gz\n"
     ]
    },
    {
     "data": {
      "application/vnd.jupyter.widget-view+json": {
       "model_id": "1a66032f9def4ef893bf0b63667e90fd",
       "version_major": 2,
       "version_minor": 0
      },
      "text/plain": [
       "HBox(children=(FloatProgress(value=1.0, bar_style='info', max=1.0), HTML(value='')))"
      ]
     },
     "metadata": {},
     "output_type": "display_data"
    },
    {
     "name": "stdout",
     "output_type": "stream",
     "text": [
      "Extracting ../data/MNIST/raw/t10k-labels-idx1-ubyte.gz to ../data/MNIST/raw\n",
      "Processing...\n"
     ]
    },
    {
     "name": "stderr",
     "output_type": "stream",
     "text": [
      "/Users/alex/anaconda3/envs/pytorch/lib/python3.6/site-packages/torchvision/datasets/mnist.py:480: UserWarning: The given NumPy array is not writeable, and PyTorch does not support non-writeable tensors. This means you can write to the underlying (supposedly non-writeable) NumPy array using the tensor. You may want to copy the array to protect its data or make it writeable before converting it to a tensor. This type of warning will be suppressed for the rest of this program. (Triggered internally at  /Users/distiller/project/conda/conda-bld/pytorch_1603729183814/work/torch/csrc/utils/tensor_numpy.cpp:141.)\n",
      "  return torch.from_numpy(parsed.astype(m[2], copy=False)).view(*s)\n"
     ]
    },
    {
     "name": "stdout",
     "output_type": "stream",
     "text": [
      "Done!\n"
     ]
    }
   ],
   "source": [
    "train_loader = torch.utils.data.DataLoader(datasets.MNIST('../data', train=True, download=True,\n",
    "                                           transform=transforms.Compose([\n",
    "                                           transforms.ToTensor(),\n",
    "#                                            transforms.Normalize((0.1307,), (0.3081,))\n",
    "                                           ])),\n",
    "                            batch_size=100, shuffle=True)\n",
    "\n",
    "test_loader = torch.utils.data.DataLoader(datasets.MNIST('../data', train=False, transform=transforms.Compose([\n",
    "                                       transforms.ToTensor(),\n",
    "#                                        transforms.Normalize((0.1307,), (0.3081,))\n",
    "                            ])),\n",
    "                batch_size=16, shuffle=True)"
   ]
  },
  {
   "cell_type": "code",
   "execution_count": 4,
   "metadata": {
    "slideshow": {
     "slide_type": "slide"
    }
   },
   "outputs": [],
   "source": [
    "epochs = 5\n",
    "log_interval = 100\n",
    "lr = 1e-3\n",
    "momentum = 0.9"
   ]
  },
  {
   "cell_type": "code",
   "execution_count": 5,
   "metadata": {
    "slideshow": {
     "slide_type": "slide"
    }
   },
   "outputs": [
    {
     "name": "stdout",
     "output_type": "stream",
     "text": [
      "SGD\n",
      "Train Epoch: 1 [0/60000 (0%)]\tLoss: 2.307129\n",
      "Train Epoch: 1 [10000/60000 (17%)]\tLoss: 2.286637\n",
      "Train Epoch: 1 [20000/60000 (33%)]\tLoss: 2.290917\n",
      "Train Epoch: 1 [30000/60000 (50%)]\tLoss: 2.319017\n",
      "Train Epoch: 1 [40000/60000 (67%)]\tLoss: 2.308852\n",
      "Train Epoch: 1 [50000/60000 (83%)]\tLoss: 2.297124\n"
     ]
    },
    {
     "name": "stderr",
     "output_type": "stream",
     "text": [
      "/Users/alex/anaconda3/envs/pytorch/lib/python3.6/site-packages/torch/nn/_reduction.py:44: UserWarning: size_average and reduce args will be deprecated, please use reduction='mean' instead.\n",
      "  warnings.warn(warning.format(ret))\n"
     ]
    },
    {
     "name": "stdout",
     "output_type": "stream",
     "text": [
      "\n",
      "Test set: Average loss: 0.1437, Accuracy: 1590/10000 (16%)\n",
      "\n",
      "Train Epoch: 2 [0/60000 (0%)]\tLoss: 2.299436\n",
      "Train Epoch: 2 [10000/60000 (17%)]\tLoss: 2.316912\n",
      "Train Epoch: 2 [20000/60000 (33%)]\tLoss: 2.296165\n",
      "Train Epoch: 2 [30000/60000 (50%)]\tLoss: 2.299601\n",
      "Train Epoch: 2 [40000/60000 (67%)]\tLoss: 2.301605\n",
      "Train Epoch: 2 [50000/60000 (83%)]\tLoss: 2.289168\n",
      "\n",
      "Test set: Average loss: 0.1433, Accuracy: 1924/10000 (19%)\n",
      "\n",
      "Train Epoch: 3 [0/60000 (0%)]\tLoss: 2.298918\n",
      "Train Epoch: 3 [10000/60000 (17%)]\tLoss: 2.291537\n",
      "Train Epoch: 3 [20000/60000 (33%)]\tLoss: 2.296339\n",
      "Train Epoch: 3 [30000/60000 (50%)]\tLoss: 2.298623\n",
      "Train Epoch: 3 [40000/60000 (67%)]\tLoss: 2.284480\n",
      "Train Epoch: 3 [50000/60000 (83%)]\tLoss: 2.301266\n",
      "\n",
      "Test set: Average loss: 0.1430, Accuracy: 2453/10000 (25%)\n",
      "\n",
      "Train Epoch: 4 [0/60000 (0%)]\tLoss: 2.281284\n",
      "Train Epoch: 4 [10000/60000 (17%)]\tLoss: 2.293926\n",
      "Train Epoch: 4 [20000/60000 (33%)]\tLoss: 2.285177\n",
      "Train Epoch: 4 [30000/60000 (50%)]\tLoss: 2.280435\n",
      "Train Epoch: 4 [40000/60000 (67%)]\tLoss: 2.279446\n",
      "Train Epoch: 4 [50000/60000 (83%)]\tLoss: 2.264384\n",
      "\n",
      "Test set: Average loss: 0.1424, Accuracy: 3396/10000 (34%)\n",
      "\n",
      "Train Epoch: 5 [0/60000 (0%)]\tLoss: 2.292422\n",
      "Train Epoch: 5 [10000/60000 (17%)]\tLoss: 2.274941\n",
      "Train Epoch: 5 [20000/60000 (33%)]\tLoss: 2.285778\n",
      "Train Epoch: 5 [30000/60000 (50%)]\tLoss: 2.283643\n",
      "Train Epoch: 5 [40000/60000 (67%)]\tLoss: 2.285255\n",
      "Train Epoch: 5 [50000/60000 (83%)]\tLoss: 2.273566\n",
      "\n",
      "Test set: Average loss: 0.1417, Accuracy: 4057/10000 (41%)\n",
      "\n",
      "SGD momentum\n",
      "Train Epoch: 1 [0/60000 (0%)]\tLoss: 2.307283\n",
      "Train Epoch: 1 [10000/60000 (17%)]\tLoss: 2.296826\n",
      "Train Epoch: 1 [20000/60000 (33%)]\tLoss: 2.278159\n",
      "Train Epoch: 1 [30000/60000 (50%)]\tLoss: 2.256475\n",
      "Train Epoch: 1 [40000/60000 (67%)]\tLoss: 2.203041\n",
      "Train Epoch: 1 [50000/60000 (83%)]\tLoss: 2.118347\n",
      "\n",
      "Test set: Average loss: 0.1021, Accuracy: 6930/10000 (69%)\n",
      "\n",
      "Train Epoch: 2 [0/60000 (0%)]\tLoss: 1.877782\n",
      "Train Epoch: 2 [10000/60000 (17%)]\tLoss: 1.493810\n",
      "Train Epoch: 2 [20000/60000 (33%)]\tLoss: 1.284614\n",
      "Train Epoch: 2 [30000/60000 (50%)]\tLoss: 1.096789\n",
      "Train Epoch: 2 [40000/60000 (67%)]\tLoss: 0.946051\n",
      "Train Epoch: 2 [50000/60000 (83%)]\tLoss: 0.821527\n",
      "\n",
      "Test set: Average loss: 0.0303, Accuracy: 8573/10000 (86%)\n",
      "\n",
      "Train Epoch: 3 [0/60000 (0%)]\tLoss: 0.992758\n",
      "Train Epoch: 3 [10000/60000 (17%)]\tLoss: 0.726539\n",
      "Train Epoch: 3 [20000/60000 (33%)]\tLoss: 0.569290\n",
      "Train Epoch: 3 [30000/60000 (50%)]\tLoss: 0.501050\n",
      "Train Epoch: 3 [40000/60000 (67%)]\tLoss: 0.708818\n",
      "Train Epoch: 3 [50000/60000 (83%)]\tLoss: 0.562569\n",
      "\n",
      "Test set: Average loss: 0.0222, Accuracy: 9001/10000 (90%)\n",
      "\n",
      "Train Epoch: 4 [0/60000 (0%)]\tLoss: 0.540790\n",
      "Train Epoch: 4 [10000/60000 (17%)]\tLoss: 0.645753\n",
      "Train Epoch: 4 [20000/60000 (33%)]\tLoss: 0.601968\n",
      "Train Epoch: 4 [30000/60000 (50%)]\tLoss: 0.627516\n",
      "Train Epoch: 4 [40000/60000 (67%)]\tLoss: 0.472943\n",
      "Train Epoch: 4 [50000/60000 (83%)]\tLoss: 0.570482\n",
      "\n",
      "Test set: Average loss: 0.0173, Accuracy: 9185/10000 (92%)\n",
      "\n",
      "Train Epoch: 5 [0/60000 (0%)]\tLoss: 0.394571\n",
      "Train Epoch: 5 [10000/60000 (17%)]\tLoss: 0.410848\n",
      "Train Epoch: 5 [20000/60000 (33%)]\tLoss: 0.421253\n",
      "Train Epoch: 5 [30000/60000 (50%)]\tLoss: 0.575300\n",
      "Train Epoch: 5 [40000/60000 (67%)]\tLoss: 0.438697\n",
      "Train Epoch: 5 [50000/60000 (83%)]\tLoss: 0.479576\n",
      "\n",
      "Test set: Average loss: 0.0145, Accuracy: 9301/10000 (93%)\n",
      "\n",
      "Adam\n",
      "Train Epoch: 1 [0/60000 (0%)]\tLoss: 2.298722\n",
      "Train Epoch: 1 [10000/60000 (17%)]\tLoss: 0.821137\n",
      "Train Epoch: 1 [20000/60000 (33%)]\tLoss: 0.472648\n",
      "Train Epoch: 1 [30000/60000 (50%)]\tLoss: 0.512719\n",
      "Train Epoch: 1 [40000/60000 (67%)]\tLoss: 0.502941\n",
      "Train Epoch: 1 [50000/60000 (83%)]\tLoss: 0.301060\n",
      "\n",
      "Test set: Average loss: 0.0090, Accuracy: 9553/10000 (96%)\n",
      "\n",
      "Train Epoch: 2 [0/60000 (0%)]\tLoss: 0.377278\n",
      "Train Epoch: 2 [10000/60000 (17%)]\tLoss: 0.261460\n",
      "Train Epoch: 2 [20000/60000 (33%)]\tLoss: 0.318032\n",
      "Train Epoch: 2 [30000/60000 (50%)]\tLoss: 0.480905\n",
      "Train Epoch: 2 [40000/60000 (67%)]\tLoss: 0.373936\n",
      "Train Epoch: 2 [50000/60000 (83%)]\tLoss: 0.336922\n",
      "\n",
      "Test set: Average loss: 0.0060, Accuracy: 9702/10000 (97%)\n",
      "\n",
      "Train Epoch: 3 [0/60000 (0%)]\tLoss: 0.393849\n",
      "Train Epoch: 3 [10000/60000 (17%)]\tLoss: 0.271643\n",
      "Train Epoch: 3 [20000/60000 (33%)]\tLoss: 0.191220\n",
      "Train Epoch: 3 [30000/60000 (50%)]\tLoss: 0.221038\n",
      "Train Epoch: 3 [40000/60000 (67%)]\tLoss: 0.295643\n",
      "Train Epoch: 3 [50000/60000 (83%)]\tLoss: 0.237849\n",
      "\n",
      "Test set: Average loss: 0.0049, Accuracy: 9748/10000 (97%)\n",
      "\n",
      "Train Epoch: 4 [0/60000 (0%)]\tLoss: 0.299109\n",
      "Train Epoch: 4 [10000/60000 (17%)]\tLoss: 0.275170\n",
      "Train Epoch: 4 [20000/60000 (33%)]\tLoss: 0.335438\n",
      "Train Epoch: 4 [30000/60000 (50%)]\tLoss: 0.223503\n",
      "Train Epoch: 4 [40000/60000 (67%)]\tLoss: 0.203325\n",
      "Train Epoch: 4 [50000/60000 (83%)]\tLoss: 0.130490\n",
      "\n",
      "Test set: Average loss: 0.0042, Accuracy: 9792/10000 (98%)\n",
      "\n",
      "Train Epoch: 5 [0/60000 (0%)]\tLoss: 0.269487\n",
      "Train Epoch: 5 [10000/60000 (17%)]\tLoss: 0.303116\n",
      "Train Epoch: 5 [20000/60000 (33%)]\tLoss: 0.220908\n",
      "Train Epoch: 5 [30000/60000 (50%)]\tLoss: 0.220361\n",
      "Train Epoch: 5 [40000/60000 (67%)]\tLoss: 0.147303\n",
      "Train Epoch: 5 [50000/60000 (83%)]\tLoss: 0.141606\n",
      "\n",
      "Test set: Average loss: 0.0037, Accuracy: 9811/10000 (98%)\n",
      "\n",
      "Adagrad\n",
      "Train Epoch: 1 [0/60000 (0%)]\tLoss: 2.308629\n",
      "Train Epoch: 1 [10000/60000 (17%)]\tLoss: 2.044538\n",
      "Train Epoch: 1 [20000/60000 (33%)]\tLoss: 1.817532\n",
      "Train Epoch: 1 [30000/60000 (50%)]\tLoss: 1.307398\n",
      "Train Epoch: 1 [40000/60000 (67%)]\tLoss: 1.231760\n",
      "Train Epoch: 1 [50000/60000 (83%)]\tLoss: 1.191172\n",
      "\n",
      "Test set: Average loss: 0.0512, Accuracy: 8177/10000 (82%)\n",
      "\n",
      "Train Epoch: 2 [0/60000 (0%)]\tLoss: 0.965824\n",
      "Train Epoch: 2 [10000/60000 (17%)]\tLoss: 1.313720\n",
      "Train Epoch: 2 [20000/60000 (33%)]\tLoss: 1.113091\n",
      "Train Epoch: 2 [30000/60000 (50%)]\tLoss: 0.816924\n",
      "Train Epoch: 2 [40000/60000 (67%)]\tLoss: 0.845656\n",
      "Train Epoch: 2 [50000/60000 (83%)]\tLoss: 0.950626\n",
      "\n",
      "Test set: Average loss: 0.0351, Accuracy: 8678/10000 (87%)\n",
      "\n",
      "Train Epoch: 3 [0/60000 (0%)]\tLoss: 0.938203\n",
      "Train Epoch: 3 [10000/60000 (17%)]\tLoss: 1.006819\n",
      "Train Epoch: 3 [20000/60000 (33%)]\tLoss: 0.825016\n",
      "Train Epoch: 3 [30000/60000 (50%)]\tLoss: 0.878453\n",
      "Train Epoch: 3 [40000/60000 (67%)]\tLoss: 0.891251\n",
      "Train Epoch: 3 [50000/60000 (83%)]\tLoss: 0.836756\n",
      "\n",
      "Test set: Average loss: 0.0292, Accuracy: 8872/10000 (89%)\n",
      "\n",
      "Train Epoch: 4 [0/60000 (0%)]\tLoss: 0.890758\n",
      "Train Epoch: 4 [10000/60000 (17%)]\tLoss: 0.846347\n",
      "Train Epoch: 4 [20000/60000 (33%)]\tLoss: 0.751513\n",
      "Train Epoch: 4 [30000/60000 (50%)]\tLoss: 0.702184\n",
      "Train Epoch: 4 [40000/60000 (67%)]\tLoss: 0.864803\n",
      "Train Epoch: 4 [50000/60000 (83%)]\tLoss: 0.960908\n",
      "\n",
      "Test set: Average loss: 0.0262, Accuracy: 8931/10000 (89%)\n",
      "\n",
      "Train Epoch: 5 [0/60000 (0%)]\tLoss: 0.833255\n",
      "Train Epoch: 5 [10000/60000 (17%)]\tLoss: 0.787213\n",
      "Train Epoch: 5 [20000/60000 (33%)]\tLoss: 0.781579\n",
      "Train Epoch: 5 [30000/60000 (50%)]\tLoss: 0.655080\n",
      "Train Epoch: 5 [40000/60000 (67%)]\tLoss: 0.749943\n",
      "Train Epoch: 5 [50000/60000 (83%)]\tLoss: 0.790621\n",
      "\n",
      "Test set: Average loss: 0.0239, Accuracy: 9030/10000 (90%)\n",
      "\n"
     ]
    }
   ],
   "source": [
    "models = {\n",
    "    \"SGD\": Net(),\n",
    "    \"SGD momentum\": Net(),\n",
    "    \"Adam\": Net(),\n",
    "    \"Adagrad\": Net()\n",
    "}\n",
    "\n",
    "optimizers = {\n",
    "    \"SGD\": optim.SGD(models[\"SGD\"].parameters(), lr=lr),\n",
    "    \"SGD momentum\": optim.SGD(models[\"SGD momentum\"].parameters(), lr=lr, momentum=momentum),\n",
    "    \"Adam\": optim.Adam(models[\"Adam\"].parameters(), lr=lr),\n",
    "    \"Adagrad\": optim.Adagrad(models[\"Adagrad\"].parameters(), lr=lr)\n",
    "}\n",
    "conv = {opt_name: [] for opt_name in optimizers}\n",
    "for opt in optimizers:\n",
    "    print(opt)\n",
    "    for epoch in range(1, epochs + 1):\n",
    "        cur_conv = train(models[opt], train_loader, optimizers[opt], epoch, log_interval)\n",
    "        conv[opt] = conv[opt] + cur_conv\n",
    "#         display.clear_output(wait=True)\n",
    "#         plt.plot(conv)\n",
    "#     #     plt.yscale(\"log\")\n",
    "#         plt.show()\n",
    "        test(models[opt], test_loader)"
   ]
  },
  {
   "cell_type": "code",
   "execution_count": 9,
   "metadata": {
    "slideshow": {
     "slide_type": "slide"
    }
   },
   "outputs": [
    {
     "data": {
      "text/plain": [
       "<matplotlib.legend.Legend at 0x7fb76810c4a8>"
      ]
     },
     "execution_count": 9,
     "metadata": {},
     "output_type": "execute_result"
    },
    {
     "data": {
      "image/png": "[encoded data removed]",
      "text/plain": [
       "<Figure size 432x288 with 1 Axes>"
      ]
     },
     "metadata": {
      "needs_background": "light"
     },
     "output_type": "display_data"
    }
   ],
   "source": [
    "for opt_name in conv:\n",
    "    plt.plot(conv[opt_name], label=opt_name)\n",
    "plt.legend()"
   ]
  }
 ],
 "metadata": {
  "celltoolbar": "Slideshow",
  "kernelspec": {
   "display_name": "Python (pytorch)",
   "language": "python",
   "name": "pytorch"
  },
  "language_info": {
   "codemirror_mode": {
    "name": "ipython",
    "version": 3
   },
   "file_extension": ".py",
   "mimetype": "text/x-python",
   "name": "python",
   "nbconvert_exporter": "python",
   "pygments_lexer": "ipython3",
   "version": "3.6.10"
  }
 },
 "nbformat": 4,
 "nbformat_minor": 2
}
