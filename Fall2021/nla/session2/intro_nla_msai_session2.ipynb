{
  "nbformat": 4,
  "nbformat_minor": 0,
  "metadata": {
    "colab": {
      "name": "intro_nla_msai_session2.ipynb",
      "provenance": []
    },
    "kernelspec": {
      "name": "python3",
      "display_name": "Python 3"
    },
    "language_info": {
      "name": "python"
    }
  },
  "cells": [
    {
      "cell_type": "code",
      "metadata": {
        "id": "tejzyL9xGNXr"
      },
      "source": [
        "import numpy as np\n",
        "import matplotlib.pyplot as plt"
      ],
      "execution_count": 1,
      "outputs": []
    },
    {
      "cell_type": "code",
      "metadata": {
        "id": "USV7_JAuGhBy"
      },
      "source": [
        "m = 1000\n",
        "n = 100\n",
        "A = np.random.randn(m, n)\n",
        "x_true = np.random.randn(n)\n",
        "b = A @ x_true"
      ],
      "execution_count": 2,
      "outputs": []
    },
    {
      "cell_type": "code",
      "metadata": {
        "id": "tBoeBvTzJpjJ"
      },
      "source": [
        "x_naive = np.linalg.solve(A.T @ A, A.T @ b)"
      ],
      "execution_count": 3,
      "outputs": []
    },
    {
      "cell_type": "code",
      "metadata": {
        "id": "Dl3vgvEgLC9z"
      },
      "source": [
        "?np.linalg.norm"
      ],
      "execution_count": 8,
      "outputs": []
    },
    {
      "cell_type": "code",
      "metadata": {
        "colab": {
          "base_uri": "https://localhost:8080/"
        },
        "id": "gMGThWHoJyUh",
        "outputId": "15b09223-b05b-49cf-a633-0eddd9824dce"
      },
      "source": [
        "np.linalg.norm(x_naive - x_true), np.linalg.norm(A @ x_naive - b)"
      ],
      "execution_count": 5,
      "outputs": [
        {
          "output_type": "execute_result",
          "data": {
            "text/plain": [
              "(7.260752315713656e-15, 2.1496966209548942e-13)"
            ]
          },
          "metadata": {},
          "execution_count": 5
        }
      ]
    },
    {
      "cell_type": "markdown",
      "metadata": {
        "id": "RfD18hsEKFLP"
      },
      "source": [
        "$$ \\kappa (A) = \\|A\\| \\|A^{-1}\\| $$\n",
        "\n",
        "$$ \\kappa (A) = \\frac{\\sigma_{\\max}}{\\sigma_{\\min}}$$\n",
        "\n",
        "$$\\|A\\|_2 = \\sigma_{\\max}(A)$$ \n",
        "\n",
        "$$ \\|A^{-1}\\|_2 = \\sigma_{\\max}(A^{-1})$$\n",
        "\n",
        "$$A = U\\Sigma V^{\\top}$$\n",
        "\n",
        "- SVD for the $A^{-1}$\n",
        "$$A^{-1} = V\\Sigma^{-1}U^{\\top}$$\n",
        "\n",
        "- $\\sigma_{\\max}(A^{-1}) = \\frac{1}{\\sigma_{\\min} (A}$\n",
        "\n",
        "- $1 = \\|I\\| = \\|AA^{-1}\\| \\leq \\|A\\| \\|A^{-1}\\| $"
      ]
    },
    {
      "cell_type": "code",
      "metadata": {
        "colab": {
          "base_uri": "https://localhost:8080/"
        },
        "id": "89mcPNm-J9aT",
        "outputId": "070f0206-c66d-44f6-cefa-4defe45053c0"
      },
      "source": [
        "np.linalg.cond(A)"
      ],
      "execution_count": 6,
      "outputs": [
        {
          "output_type": "execute_result",
          "data": {
            "text/plain": [
              "1.8775255552356893"
            ]
          },
          "metadata": {},
          "execution_count": 6
        }
      ]
    },
    {
      "cell_type": "code",
      "metadata": {
        "colab": {
          "base_uri": "https://localhost:8080/"
        },
        "id": "xPnze7E4KDZ9",
        "outputId": "2faef866-3829-48a2-9d17-e326ddf9925e"
      },
      "source": [
        "s = np.linalg.svd(A, compute_uv=False)\n",
        "print(s.max() / s.min())"
      ],
      "execution_count": 7,
      "outputs": [
        {
          "output_type": "stream",
          "name": "stdout",
          "text": [
            "1.8775255552356893\n"
          ]
        }
      ]
    },
    {
      "cell_type": "code",
      "metadata": {
        "id": "u_mL-wV8KiSR"
      },
      "source": [
        "u, s, v = np.linalg.svd(A, compute_uv=True, full_matrices=False)\n"
      ],
      "execution_count": 9,
      "outputs": []
    },
    {
      "cell_type": "code",
      "metadata": {
        "colab": {
          "base_uri": "https://localhost:8080/"
        },
        "id": "5JgNRnhsMz30",
        "outputId": "c93bf48a-d6e3-46d9-fcec-ffc5a9eb5dbd"
      },
      "source": [
        "np.linalg.norm(A - (u * s[None, :]) @ v)"
      ],
      "execution_count": 12,
      "outputs": [
        {
          "output_type": "execute_result",
          "data": {
            "text/plain": [
              "8.207632206268805e-13"
            ]
          },
          "metadata": {},
          "execution_count": 12
        }
      ]
    },
    {
      "cell_type": "code",
      "metadata": {
        "colab": {
          "base_uri": "https://localhost:8080/"
        },
        "id": "0R4jAxBnOw2O",
        "outputId": "91f5920d-6e40-4c11-c471-4299a599525a"
      },
      "source": [
        "s"
      ],
      "execution_count": 38,
      "outputs": [
        {
          "output_type": "execute_result",
          "data": {
            "text/plain": [
              "array([4.13563836e+01, 4.10017466e+01, 4.08303130e+01, 4.00212907e+01,\n",
              "       3.97955791e+01, 3.97350267e+01, 3.92937682e+01, 3.90975000e+01,\n",
              "       3.89003497e+01, 3.86430529e+01, 3.84399132e+01, 3.80102570e+01,\n",
              "       3.77548142e+01, 3.75536124e+01, 3.74886727e+01, 3.72745894e+01,\n",
              "       3.70435791e+01, 3.66315480e+01, 3.64529128e+01, 3.61945618e+01,\n",
              "       3.59987601e+01, 3.58665286e+01, 3.56707731e+01, 3.54575078e+01,\n",
              "       3.53324050e+01, 3.51937906e+01, 3.50501685e+01, 3.47419040e+01,\n",
              "       3.45654501e+01, 3.44405261e+01, 3.42809323e+01, 3.42081540e+01,\n",
              "       3.39023644e+01, 3.38686281e+01, 3.36142541e+01, 3.33887086e+01,\n",
              "       3.32840386e+01, 3.32352067e+01, 3.30765048e+01, 3.29974397e+01,\n",
              "       3.28097744e+01, 3.24900985e+01, 3.23036437e+01, 3.21910139e+01,\n",
              "       3.20598440e+01, 3.18632219e+01, 3.16813525e+01, 3.15695633e+01,\n",
              "       3.14069668e+01, 3.13203292e+01, 3.11529331e+01, 3.10036601e+01,\n",
              "       3.06213794e+01, 3.05310547e+01, 3.03994806e+01, 3.01639139e+01,\n",
              "       3.01325446e+01, 2.99598894e+01, 2.97810464e+01, 2.96893969e+01,\n",
              "       2.95409078e+01, 2.93704865e+01, 2.92159647e+01, 2.90346029e+01,\n",
              "       2.88326202e+01, 2.86413346e+01, 2.85843601e+01, 2.84010895e+01,\n",
              "       2.82025168e+01, 2.79997205e+01, 2.78811746e+01, 2.77770380e+01,\n",
              "       2.75927756e+01, 2.74260554e+01, 2.73441382e+01, 2.72107448e+01,\n",
              "       2.68957497e+01, 2.67920420e+01, 2.66057627e+01, 2.64085676e+01,\n",
              "       2.62714624e+01, 2.61022680e+01, 2.59182880e+01, 2.58200698e+01,\n",
              "       2.55785806e+01, 2.53747892e+01, 2.52869047e+01, 2.50867378e+01,\n",
              "       2.46691230e+01, 2.45058319e+01, 2.43273286e+01, 2.41080226e+01,\n",
              "       2.38379245e+01, 2.37266019e+01, 2.36500014e+01, 2.31746176e+01,\n",
              "       2.29487459e+01, 2.28829238e+01, 2.24614388e+01, 1.00000000e-09])"
            ]
          },
          "metadata": {},
          "execution_count": 38
        }
      ]
    },
    {
      "cell_type": "code",
      "metadata": {
        "id": "T4mU3YYNM6Ui"
      },
      "source": [
        "s[-1] = 1e-9\n",
        "A_ill = (u * s[None, :]) @ v"
      ],
      "execution_count": 33,
      "outputs": []
    },
    {
      "cell_type": "code",
      "metadata": {
        "colab": {
          "base_uri": "https://localhost:8080/"
        },
        "id": "Tdo1qhwJNGjv",
        "outputId": "7e4a92d7-010f-4dcc-9360-d7ba34bd18da"
      },
      "source": [
        "np.linalg.cond(A_ill)"
      ],
      "execution_count": 34,
      "outputs": [
        {
          "output_type": "execute_result",
          "data": {
            "text/plain": [
              "41356391281.6947"
            ]
          },
          "metadata": {},
          "execution_count": 34
        }
      ]
    },
    {
      "cell_type": "code",
      "metadata": {
        "id": "Nk1vpWfANTT2"
      },
      "source": [
        "b = A_ill @ x_true"
      ],
      "execution_count": 35,
      "outputs": []
    },
    {
      "cell_type": "code",
      "metadata": {
        "id": "--ZBHeYzNdRf"
      },
      "source": [
        "x_naive = np.linalg.solve(A_ill.T @ A_ill, A_ill.T @ b)"
      ],
      "execution_count": 36,
      "outputs": []
    },
    {
      "cell_type": "code",
      "metadata": {
        "colab": {
          "base_uri": "https://localhost:8080/"
        },
        "id": "v5DA-NzcNig-",
        "outputId": "02ec2db2-dd69-46a9-9635-357e4fbfe13d"
      },
      "source": [
        "np.linalg.norm(x_naive - x_true), np.linalg.norm(A_ill @ x_naive - b)"
      ],
      "execution_count": 37,
      "outputs": [
        {
          "output_type": "execute_result",
          "data": {
            "text/plain": [
              "(35.269149797981754, 3.526915134709015e-08)"
            ]
          },
          "metadata": {},
          "execution_count": 37
        }
      ]
    },
    {
      "cell_type": "code",
      "metadata": {
        "colab": {
          "base_uri": "https://localhost:8080/"
        },
        "id": "3Qlax2UWNmD9",
        "outputId": "9d136131-9a58-43ee-c9a5-43bb28825b71"
      },
      "source": [
        "x_lstsq = np.linalg.lstsq(A_ill, b, rcond=None)[0]\n",
        "print(np.linalg.norm(A_ill @ x_lstsq - b))\n",
        "print(np.linalg.norm(x_lstsq - x_true))"
      ],
      "execution_count": 42,
      "outputs": [
        {
          "output_type": "stream",
          "name": "stdout",
          "text": [
            "6.787385258024805e-13\n",
            "3.9809513941648385e-05\n"
          ]
        }
      ]
    },
    {
      "cell_type": "markdown",
      "metadata": {
        "id": "Mh38PERlP0lE"
      },
      "source": [
        "- $ A = QR $, $Q$ is orthogonal, i.e. columns of $Q$ are orthonormal and $R$ is upper triangular\n",
        "\n",
        "\n",
        "$$ A = U\\Sigma V^{\\top}$$\n",
        "\n"
      ]
    },
    {
      "cell_type": "markdown",
      "metadata": {
        "id": "XJkB-6dtQU79"
      },
      "source": [
        "$A^{\\top}A = R^{\\top}Q^{\\top}QR = R^{\\top}R$\n",
        "\n",
        "$A^{\\top}b = R^{\\top}Q^{\\top}b$\n",
        "\n",
        "$ R^{\\top}Rx =  R^{\\top}Q^{\\top}b$\n",
        "\n",
        "$ Rx = Q^{\\top}b$ - solving costs $O(n^2)$"
      ]
    },
    {
      "cell_type": "code",
      "metadata": {
        "id": "-nee0AFlPBPu"
      },
      "source": [
        "Q, R = np.linalg.qr(A_ill)"
      ],
      "execution_count": 43,
      "outputs": []
    },
    {
      "cell_type": "code",
      "metadata": {
        "id": "khqTFnolRekB"
      },
      "source": [
        "rhs = Q.T @ b\n",
        "x_qr = np.linalg.solve(R, rhs)"
      ],
      "execution_count": 44,
      "outputs": []
    },
    {
      "cell_type": "code",
      "metadata": {
        "colab": {
          "base_uri": "https://localhost:8080/"
        },
        "id": "We7kZaBmRl8O",
        "outputId": "5bdccb73-1fb5-4af5-e884-84667a68d8d2"
      },
      "source": [
        "print(np.linalg.norm(A_ill @ x_qr - b))\n",
        "print(np.linalg.norm(x_qr - x_true))"
      ],
      "execution_count": 45,
      "outputs": [
        {
          "output_type": "stream",
          "name": "stdout",
          "text": [
            "2.146480988861119e-13\n",
            "5.185482632851362e-06\n"
          ]
        }
      ]
    },
    {
      "cell_type": "code",
      "metadata": {
        "colab": {
          "base_uri": "https://localhost:8080/"
        },
        "id": "jXCq94_HRpmA",
        "outputId": "6d6328f9-b254-4972-f82d-8cff7a7e2a3d"
      },
      "source": [
        "R.diagonal()"
      ],
      "execution_count": 47,
      "outputs": [
        {
          "output_type": "execute_result",
          "data": {
            "text/plain": [
              "array([-3.19693884e+01, -3.19356882e+01, -3.04703043e+01, -3.11805408e+01,\n",
              "        3.21416506e+01,  3.14594391e+01, -3.05456742e+01,  3.08354920e+01,\n",
              "        3.09912315e+01, -3.28773281e+01, -3.16548683e+01, -3.14212901e+01,\n",
              "       -3.13973454e+01,  3.04088043e+01, -3.17693167e+01,  3.04840721e+01,\n",
              "        3.08806090e+01, -3.09893526e+01, -3.09925397e+01, -3.00300168e+01,\n",
              "       -3.08187351e+01, -3.04631827e+01,  3.12429354e+01,  3.10468434e+01,\n",
              "        3.22264225e+01,  3.17750396e+01,  3.13133826e+01,  3.11239181e+01,\n",
              "       -3.01222506e+01, -3.24964587e+01,  3.14417334e+01,  3.12125877e+01,\n",
              "       -3.07973077e+01,  3.05133916e+01,  3.05811898e+01, -3.20959814e+01,\n",
              "        3.24580489e+01, -3.24991619e+01, -3.20160279e+01, -3.08223775e+01,\n",
              "       -3.07236940e+01, -3.15611508e+01, -3.12637033e+01, -3.19644432e+01,\n",
              "       -2.93582415e+01, -3.22677236e+01,  3.08971673e+01, -3.04039167e+01,\n",
              "       -3.12108647e+01, -2.92034672e+01, -3.02938757e+01,  3.02245029e+01,\n",
              "       -3.03771548e+01,  3.04146472e+01, -3.12736961e+01, -3.08203416e+01,\n",
              "       -2.88691953e+01,  3.08383439e+01, -3.11026299e+01, -2.95679467e+01,\n",
              "        3.14494661e+01,  3.05568561e+01, -3.13069452e+01, -2.96483839e+01,\n",
              "        2.93544362e+01,  2.97362431e+01,  3.02595493e+01, -3.04970177e+01,\n",
              "        3.03729722e+01, -3.06364616e+01, -2.94301182e+01, -3.15960097e+01,\n",
              "       -2.99326232e+01,  3.14387484e+01,  2.83517819e+01, -3.04212461e+01,\n",
              "        3.06339857e+01,  2.84004408e+01,  3.02522636e+01,  3.03700429e+01,\n",
              "       -2.88262670e+01,  2.95194304e+01, -3.00724215e+01, -2.39986914e+01,\n",
              "       -3.05435501e+01,  3.02375560e+01, -2.94990258e+01,  2.45258906e+01,\n",
              "       -3.07383366e+01, -2.91086699e+01, -2.98706656e+01, -2.55090122e+01,\n",
              "        2.30367631e+01, -2.96642499e+01,  2.39366227e+01,  3.00444292e+01,\n",
              "       -2.95835124e+01, -9.53020032e+00, -1.93453764e+01,  4.26034108e-08])"
            ]
          },
          "metadata": {},
          "execution_count": 47
        }
      ]
    },
    {
      "cell_type": "code",
      "metadata": {
        "id": "P5uvRPJfSHg1"
      },
      "source": [
        "import scipy.linalg as splin"
      ],
      "execution_count": 49,
      "outputs": []
    },
    {
      "cell_type": "code",
      "metadata": {
        "colab": {
          "base_uri": "https://localhost:8080/"
        },
        "id": "MSCneWysSdEI",
        "outputId": "ece27cb1-885f-426e-9d51-2817df0f9d6b"
      },
      "source": [
        "splin.solve_triangular(R, rhs, lower=False)"
      ],
      "execution_count": 51,
      "outputs": [
        {
          "output_type": "execute_result",
          "data": {
            "text/plain": [
              "array([-0.43703946,  2.14115039,  0.18794807,  1.05453071, -0.25832992,\n",
              "        0.22798612, -1.0887044 ,  1.60922956,  0.4665779 ,  0.47934545,\n",
              "       -0.56029509, -0.33341018, -0.19464248, -0.46248688,  0.92987942,\n",
              "        1.77643113, -1.32183871, -0.71347684, -1.79352991,  0.8065988 ,\n",
              "       -0.35725264, -1.13668032, -0.04665623, -0.69049801, -0.40825058,\n",
              "        0.13624996,  0.9681549 ,  0.1729874 ,  0.87767654,  0.03686949,\n",
              "       -0.4373802 ,  0.55848051, -1.63981967, -0.87391151,  0.7296314 ,\n",
              "        2.61673357,  0.53798513,  0.13796004,  0.48772644,  0.0737571 ,\n",
              "        1.19585981, -1.0100648 ,  0.26181521, -0.1634077 , -0.83462075,\n",
              "        0.43540941,  1.14419164, -0.22125771, -0.27730187, -0.49290883,\n",
              "       -2.22064333, -0.19450314,  0.57467403, -0.38895571,  0.21516718,\n",
              "        0.14472483,  1.31947043,  1.14754291, -2.73952448,  0.1376501 ,\n",
              "       -0.69196138, -0.55528784, -0.57053104, -2.06448411, -1.30224424,\n",
              "       -1.82869697, -0.1803589 ,  0.62143107,  1.19364714,  0.41312748,\n",
              "        0.65179271,  2.17611929,  0.85531699, -0.59914209, -1.14363443,\n",
              "        0.19042292, -1.66725734, -0.18985906,  0.83488729,  0.21999605,\n",
              "       -0.50226929, -0.18726247,  0.33359687, -1.70026489,  1.28502133,\n",
              "        0.00381091, -1.27529886, -0.16429488,  0.96803972, -2.28113636,\n",
              "        1.01488447, -1.92769755, -0.46938518,  0.80508934, -0.30626651,\n",
              "       -0.0613125 ,  0.7523949 ,  1.13697859, -0.67336483, -1.20759495])"
            ]
          },
          "metadata": {},
          "execution_count": 51
        }
      ]
    },
    {
      "cell_type": "code",
      "metadata": {
        "colab": {
          "base_uri": "https://localhost:8080/"
        },
        "id": "TN1MD8-ISkQ3",
        "outputId": "ae75e690-ab66-4331-f183-e9bb059180f4"
      },
      "source": [
        "x_qr"
      ],
      "execution_count": 52,
      "outputs": [
        {
          "output_type": "execute_result",
          "data": {
            "text/plain": [
              "array([-0.43703946,  2.14115039,  0.18794807,  1.05453071, -0.25832992,\n",
              "        0.22798612, -1.0887044 ,  1.60922956,  0.4665779 ,  0.47934545,\n",
              "       -0.56029509, -0.33341018, -0.19464248, -0.46248688,  0.92987942,\n",
              "        1.77643113, -1.32183871, -0.71347684, -1.79352991,  0.8065988 ,\n",
              "       -0.35725264, -1.13668032, -0.04665623, -0.69049801, -0.40825058,\n",
              "        0.13624996,  0.9681549 ,  0.1729874 ,  0.87767654,  0.03686949,\n",
              "       -0.4373802 ,  0.55848051, -1.63981967, -0.87391151,  0.7296314 ,\n",
              "        2.61673357,  0.53798513,  0.13796004,  0.48772644,  0.0737571 ,\n",
              "        1.19585981, -1.0100648 ,  0.26181521, -0.1634077 , -0.83462075,\n",
              "        0.43540941,  1.14419164, -0.22125771, -0.27730187, -0.49290883,\n",
              "       -2.22064333, -0.19450314,  0.57467403, -0.38895571,  0.21516718,\n",
              "        0.14472483,  1.31947043,  1.14754291, -2.73952448,  0.1376501 ,\n",
              "       -0.69196138, -0.55528784, -0.57053104, -2.06448411, -1.30224424,\n",
              "       -1.82869697, -0.1803589 ,  0.62143107,  1.19364714,  0.41312748,\n",
              "        0.65179271,  2.17611929,  0.85531699, -0.59914209, -1.14363443,\n",
              "        0.19042292, -1.66725734, -0.18985906,  0.83488729,  0.21999605,\n",
              "       -0.50226929, -0.18726247,  0.33359687, -1.70026489,  1.28502133,\n",
              "        0.00381091, -1.27529886, -0.16429488,  0.96803972, -2.28113636,\n",
              "        1.01488447, -1.92769755, -0.46938518,  0.80508934, -0.30626651,\n",
              "       -0.0613125 ,  0.7523949 ,  1.13697859, -0.67336483, -1.20759495])"
            ]
          },
          "metadata": {},
          "execution_count": 52
        }
      ]
    },
    {
      "cell_type": "code",
      "metadata": {
        "colab": {
          "base_uri": "https://localhost:8080/"
        },
        "id": "pC5NP97KSoic",
        "outputId": "fd4b7899-20e9-477a-da01-0acb5b321c98"
      },
      "source": [
        "%timeit splin.solve_triangular(R, rhs, lower=False)\n",
        "%timeit np.linalg.solve(R, rhs)"
      ],
      "execution_count": 53,
      "outputs": [
        {
          "output_type": "stream",
          "name": "stdout",
          "text": [
            "The slowest run took 5.53 times longer than the fastest. This could mean that an intermediate result is being cached.\n",
            "10000 loops, best of 5: 30.6 µs per loop\n",
            "The slowest run took 12.97 times longer than the fastest. This could mean that an intermediate result is being cached.\n",
            "1000 loops, best of 5: 185 µs per loop\n"
          ]
        }
      ]
    },
    {
      "cell_type": "code",
      "metadata": {
        "id": "IObu7qsOSwjz"
      },
      "source": [
        ""
      ],
      "execution_count": null,
      "outputs": []
    },
    {
      "cell_type": "markdown",
      "metadata": {
        "id": "r_BlwGKRXVgp"
      },
      "source": [
        "$$ \\|Qx\\|_2 = x^{\\top}Q^{\\top}Qx = \\|x\\|_2$$"
      ]
    },
    {
      "cell_type": "code",
      "metadata": {
        "id": "_Pvo14ZeTEHx"
      },
      "source": [
        "def qr_algorithm(A, max_iter, tol):\n",
        "    for i in range(max_iter):\n",
        "        Q, R = np.linalg.qr(A)\n",
        "        A = R @ Q\n",
        "    return A"
      ],
      "execution_count": 59,
      "outputs": []
    },
    {
      "cell_type": "code",
      "metadata": {
        "id": "p2hMtyL3Tu3N"
      },
      "source": [
        ""
      ],
      "execution_count": 60,
      "outputs": []
    },
    {
      "cell_type": "code",
      "metadata": {
        "id": "QMxlgqUyTkoq"
      },
      "source": [
        "n = 20\n",
        "A = np.random.randn(n, n)\n",
        "# A = A + A.T"
      ],
      "execution_count": 78,
      "outputs": []
    },
    {
      "cell_type": "code",
      "metadata": {
        "id": "0T0pOC4ZUFgS"
      },
      "source": [
        "S = qr_algorithm(A, 5000, 1e-3)"
      ],
      "execution_count": 79,
      "outputs": []
    },
    {
      "cell_type": "code",
      "metadata": {
        "colab": {
          "base_uri": "https://localhost:8080/",
          "height": 286
        },
        "id": "MQD0CC4gUPEL",
        "outputId": "7f18d218-a06e-4bef-b174-474c4a8af64d"
      },
      "source": [
        "plt.spy(S, markersize=4, precision=1e-5)"
      ],
      "execution_count": 84,
      "outputs": [
        {
          "output_type": "execute_result",
          "data": {
            "text/plain": [
              "<matplotlib.lines.Line2D at 0x7f1f36057b10>"
            ]
          },
          "metadata": {},
          "execution_count": 84
        },
        {
          "output_type": "display_data",
          "data": {
            "image/png": "[encoded data removed]",
            "text/plain": [
              "<Figure size 432x288 with 1 Axes>"
            ]
          },
          "metadata": {
            "needs_background": "light"
          }
        }
      ]
    },
    {
      "cell_type": "code",
      "metadata": {
        "colab": {
          "base_uri": "https://localhost:8080/"
        },
        "id": "S_prK-7TUQB8",
        "outputId": "51e2bd0b-330b-4662-9a18-c323b6d1a067"
      },
      "source": [
        "np.sort(S.diagonal())"
      ],
      "execution_count": 82,
      "outputs": [
        {
          "output_type": "execute_result",
          "data": {
            "text/plain": [
              "array([-3.71475153, -3.40007184, -2.9277339 , -2.56956374, -2.21060929,\n",
              "       -1.83897617, -1.45481457, -0.78509172, -0.48419506, -0.28234571,\n",
              "       -0.26204061, -0.06815219,  0.74047291,  1.12031843,  1.64615938,\n",
              "        2.30086447,  2.340893  ,  2.38770314,  2.87754981,  3.61557833])"
            ]
          },
          "metadata": {},
          "execution_count": 82
        }
      ]
    },
    {
      "cell_type": "code",
      "metadata": {
        "colab": {
          "base_uri": "https://localhost:8080/"
        },
        "id": "vFv7_ySAUnMI",
        "outputId": "e0db04ab-a578-4225-e023-9768a256482c"
      },
      "source": [
        "np.linalg.eigvals(A)"
      ],
      "execution_count": 81,
      "outputs": [
        {
          "output_type": "execute_result",
          "data": {
            "text/plain": [
              "array([ 3.00164073+2.56991676j,  3.00164073-2.56991676j,\n",
              "       -0.0223094 +4.16909611j, -0.0223094 -4.16909611j,\n",
              "       -3.55741168+2.07993198j, -3.55741168-2.07993198j,\n",
              "        2.87754981+0.j        ,  1.97351193+0.748818j  ,\n",
              "        1.97351193-0.748818j  ,  1.73060571+1.27280726j,\n",
              "        1.73060571-1.27280726j, -2.20426995+2.36686477j,\n",
              "       -2.20426995-2.36686477j, -0.38327039+2.65812815j,\n",
              "       -0.38327039-2.65812815j, -0.1650964 +1.8637811j ,\n",
              "       -0.1650964 -1.8637811j , -2.9277339 +0.j        ,\n",
              "       -2.21060929+0.j        , -1.45481457+0.j        ])"
            ]
          },
          "metadata": {},
          "execution_count": 81
        }
      ]
    },
    {
      "cell_type": "code",
      "metadata": {
        "colab": {
          "base_uri": "https://localhost:8080/"
        },
        "id": "K77Hk1EdW4El",
        "outputId": "d448dea1-87e8-4bed-a650-c555a8652e42"
      },
      "source": [
        "S[:2, :2]"
      ],
      "execution_count": 85,
      "outputs": [
        {
          "output_type": "execute_result",
          "data": {
            "text/plain": [
              "array([[-0.78509172,  3.97533741],\n",
              "       [-4.51866026,  0.74047291]])"
            ]
          },
          "metadata": {},
          "execution_count": 85
        }
      ]
    },
    {
      "cell_type": "code",
      "metadata": {
        "colab": {
          "base_uri": "https://localhost:8080/"
        },
        "id": "fxWXM5QbY3t8",
        "outputId": "9bdc8c15-d294-49bc-ebc5-af44633bf9ed"
      },
      "source": [
        "np.linalg.eigvals(S[:2, :2])"
      ],
      "execution_count": 86,
      "outputs": [
        {
          "output_type": "execute_result",
          "data": {
            "text/plain": [
              "array([-0.0223094+4.16909611j, -0.0223094-4.16909611j])"
            ]
          },
          "metadata": {},
          "execution_count": 86
        }
      ]
    },
    {
      "cell_type": "code",
      "metadata": {
        "id": "KbIk0GoLY9Hl"
      },
      "source": [
        ""
      ],
      "execution_count": null,
      "outputs": []
    }
  ]
}