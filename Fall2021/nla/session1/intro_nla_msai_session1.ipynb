{
  "nbformat": 4,
  "nbformat_minor": 0,
  "metadata": {
    "colab": {
      "name": "intro_nla_msai_session1.ipynb",
      "provenance": []
    },
    "kernelspec": {
      "name": "python3",
      "display_name": "Python 3"
    },
    "language_info": {
      "name": "python"
    },
    "accelerator": "GPU"
  },
  "cells": [
    {
      "cell_type": "code",
      "metadata": {
        "id": "Qy4eUSGBGIro"
      },
      "source": [
        "import numpy as np"
      ],
      "execution_count": null,
      "outputs": []
    },
    {
      "cell_type": "code",
      "metadata": {
        "id": "allzK94CGIps"
      },
      "source": [
        "a = np.float32(1.)\n",
        "b = np.float32(100000)\n",
        "c = np.float32(-0.01) "
      ],
      "execution_count": null,
      "outputs": []
    },
    {
      "cell_type": "code",
      "metadata": {
        "id": "6TzEb67FG0KP"
      },
      "source": [
        ""
      ],
      "execution_count": null,
      "outputs": []
    },
    {
      "cell_type": "code",
      "metadata": {
        "id": "tUEsqFIvG0IK"
      },
      "source": [
        ""
      ],
      "execution_count": null,
      "outputs": []
    },
    {
      "cell_type": "markdown",
      "metadata": {
        "id": "RoT7VndJGd1T"
      },
      "source": [
        "$$ ax^2 + bx + c = 0$$"
      ]
    },
    {
      "cell_type": "code",
      "metadata": {
        "colab": {
          "base_uri": "https://localhost:8080/"
        },
        "id": "mQIuYYcFGInJ",
        "outputId": "e6ea5c07-5158-4c0e-8247-a90251182974"
      },
      "source": [
        "x1 = (-b + np.sqrt(b * b - 4 * a * c, dtype=np.float32)) / (2 * a)\n",
        "x2 = (-b - np.sqrt(b * b - 4 * a * c, dtype=np.float32)) / (2 * a)\n",
        "print(x1, x2)"
      ],
      "execution_count": null,
      "outputs": [
        {
          "output_type": "stream",
          "name": "stdout",
          "text": [
            "0.0 -100000.0\n"
          ]
        }
      ]
    },
    {
      "cell_type": "code",
      "metadata": {
        "colab": {
          "base_uri": "https://localhost:8080/"
        },
        "id": "m8DA-de2GIlO",
        "outputId": "c3379aa9-cafc-48cb-d22b-dfdafbc2e979"
      },
      "source": [
        "print(a * x1 * x1 + b * x1 + c)\n",
        "print(a * x2 * x2 + b * x2 + c)"
      ],
      "execution_count": null,
      "outputs": [
        {
          "output_type": "stream",
          "name": "stdout",
          "text": [
            "-0.009999999776482582\n",
            "-0.009999999776482582\n"
          ]
        }
      ]
    },
    {
      "cell_type": "code",
      "metadata": {
        "colab": {
          "base_uri": "https://localhost:8080/"
        },
        "id": "vJej5CbEB2FK",
        "outputId": "69389e7e-df63-4b5c-9684-89c3649065af"
      },
      "source": [
        "x1 = 2 * c / (-b - np.sqrt(b * b - 4 * a * c, dtype=np.float32))\n",
        "x2 = -b/a - x1\n",
        "print(x1,x2)"
      ],
      "execution_count": null,
      "outputs": [
        {
          "output_type": "stream",
          "name": "stdout",
          "text": [
            "9.999999776482582e-08 -100000.0000001\n"
          ]
        }
      ]
    },
    {
      "cell_type": "code",
      "metadata": {
        "colab": {
          "base_uri": "https://localhost:8080/"
        },
        "id": "BVhmjGPHB2DT",
        "outputId": "7abcdfe1-58ba-4b13-f8ad-a102f082aa40"
      },
      "source": [
        "print(a * x1 * x1 + b * x1 + c)\n",
        "print(a * x2 * x2 + b * x2 + c)"
      ],
      "execution_count": null,
      "outputs": [
        {
          "output_type": "stream",
          "name": "stdout",
          "text": [
            "1.0000680839006293e-14\n",
            "2.2910535335540771e-07\n"
          ]
        }
      ]
    },
    {
      "cell_type": "code",
      "metadata": {
        "id": "4qwWMXhkIbOz"
      },
      "source": [
        ""
      ],
      "execution_count": null,
      "outputs": []
    },
    {
      "cell_type": "code",
      "metadata": {
        "id": "E9SLDjrWIJ21"
      },
      "source": [
        "n = 100\n",
        "A = np.random.randn(n, n)\n",
        "B = np.random.randn(n, n)\n",
        "C = A @ B "
      ],
      "execution_count": null,
      "outputs": []
    },
    {
      "cell_type": "code",
      "metadata": {
        "id": "OGX7gC07IJ1F"
      },
      "source": [
        "from numba import jit\n",
        "def matmat(A, B):\n",
        "    n = A.shape[0]\n",
        "    C = np.zeros((n, n))\n",
        "    for i in range(n):\n",
        "        for j in range(n):\n",
        "            for k in range(n):\n",
        "                C[i,j] += A[i, k] * B[k, j]\n",
        "    return C\n",
        "\n",
        "@jit(nopython=True)\n",
        "def matmat_numba(A, B):\n",
        "    n = A.shape[0]\n",
        "    C = np.zeros((n, n))\n",
        "    for i in range(n):\n",
        "        for j in range(n):\n",
        "            for k in range(n):\n",
        "                C[i,j] += A[i, k] * B[k, j]\n",
        "    return C\n"
      ],
      "execution_count": null,
      "outputs": []
    },
    {
      "cell_type": "code",
      "metadata": {
        "id": "XU63lmQiIJyz"
      },
      "source": [
        "C_manual = matmat(A, B)\n",
        "C_jit = matmat_numba(A, B)"
      ],
      "execution_count": null,
      "outputs": []
    },
    {
      "cell_type": "code",
      "metadata": {
        "colab": {
          "base_uri": "https://localhost:8080/"
        },
        "id": "ICdKL5YNB2A3",
        "outputId": "0dcd6ad2-f323-4539-ac1f-dcf23c4d21fc"
      },
      "source": [
        "np.linalg.norm(C - C_manual), np.linalg.norm(C_jit - C_manual), "
      ],
      "execution_count": null,
      "outputs": [
        {
          "output_type": "execute_result",
          "data": {
            "text/plain": [
              "(2.35093678307626e-13, 0.0)"
            ]
          },
          "metadata": {},
          "execution_count": 64
        }
      ]
    },
    {
      "cell_type": "code",
      "metadata": {
        "colab": {
          "base_uri": "https://localhost:8080/"
        },
        "id": "GnhMk2cXB10X",
        "outputId": "23527493-ebe8-4958-c7c6-bc08690a3f90"
      },
      "source": [
        "%timeit matmat(A, B)\n",
        "%timeit matmat_numba(A, B)\n",
        "%timeit A @ B"
      ],
      "execution_count": null,
      "outputs": [
        {
          "output_type": "stream",
          "name": "stdout",
          "text": [
            "1 loop, best of 5: 879 ms per loop\n",
            "1000 loops, best of 5: 1.17 ms per loop\n",
            "The slowest run took 31.57 times longer than the fastest. This could mean that an intermediate result is being cached.\n",
            "10000 loops, best of 5: 131 µs per loop\n"
          ]
        }
      ]
    },
    {
      "cell_type": "code",
      "metadata": {
        "id": "PiZz5kvdKXnS"
      },
      "source": [
        "import torch "
      ],
      "execution_count": null,
      "outputs": []
    },
    {
      "cell_type": "code",
      "metadata": {
        "id": "wybOWIZCKXkY"
      },
      "source": [
        "A = torch.randn((n, n), device=\"cuda\")\n",
        "B = torch.randn((n, n), device=\"cuda\")"
      ],
      "execution_count": null,
      "outputs": []
    },
    {
      "cell_type": "code",
      "metadata": {
        "colab": {
          "base_uri": "https://localhost:8080/"
        },
        "id": "XhF5AF2lKXiK",
        "outputId": "2102f7d7-c221-4a73-dab8-e11b13f8b8a6"
      },
      "source": [
        "%timeit A @ B"
      ],
      "execution_count": null,
      "outputs": [
        {
          "output_type": "stream",
          "name": "stdout",
          "text": [
            "The slowest run took 3581.11 times longer than the fastest. This could mean that an intermediate result is being cached.\n",
            "10000 loops, best of 5: 19.8 µs per loop\n"
          ]
        }
      ]
    },
    {
      "cell_type": "code",
      "metadata": {
        "colab": {
          "base_uri": "https://localhost:8080/"
        },
        "id": "k299kvrNB1yI",
        "outputId": "485ed57f-f463-4aa6-e544-6755aab2bf13"
      },
      "source": [
        "A = A.to(\"cpu\")\n",
        "B = B.to(\"cpu\")\n",
        "%timeit A @ B"
      ],
      "execution_count": null,
      "outputs": [
        {
          "output_type": "stream",
          "name": "stdout",
          "text": [
            "The slowest run took 1107.10 times longer than the fastest. This could mean that an intermediate result is being cached.\n",
            "10000 loops, best of 5: 41.5 µs per loop\n"
          ]
        }
      ]
    },
    {
      "cell_type": "code",
      "metadata": {
        "colab": {
          "base_uri": "https://localhost:8080/"
        },
        "id": "VmaKWcTqB1wH",
        "outputId": "5c0a0a17-9601-41d1-e522-51530833e084"
      },
      "source": [
        "n = 100\n",
        "k = 10\n",
        "A = np.random.randn(n, k)\n",
        "A = A @ A.T \n",
        "print(A.shape)\n",
        "s = np.linalg.svd(A, compute_uv=False)\n",
        "print(s)\n",
        "print(np.linalg.matrix_rank(A, tol=1e-18))\n",
        "print(np.linalg.matrix_rank(A + 1e-3 * np.random.randn(n, n)))"
      ],
      "execution_count": null,
      "outputs": [
        {
          "output_type": "stream",
          "name": "stdout",
          "text": [
            "(100, 100)\n",
            "[1.53824787e+02 1.38555438e+02 1.25694717e+02 1.00368821e+02\n",
            " 9.36767190e+01 8.83411892e+01 7.67232970e+01 6.71518093e+01\n",
            " 5.88306213e+01 4.74490885e+01 1.94284609e-14 1.86105546e-14\n",
            " 1.70341389e-14 1.52237140e-14 1.47667136e-14 1.31962998e-14\n",
            " 1.28824004e-14 1.21185747e-14 1.13273237e-14 1.10286473e-14\n",
            " 1.05661574e-14 1.02213110e-14 9.96390177e-15 9.68526911e-15\n",
            " 9.22030120e-15 8.92664800e-15 8.45971595e-15 8.28350404e-15\n",
            " 8.02565531e-15 7.86917817e-15 7.61477805e-15 7.49494109e-15\n",
            " 7.13848969e-15 7.11088719e-15 6.81897081e-15 6.57306798e-15\n",
            " 6.52685423e-15 6.30690705e-15 6.24960241e-15 6.06942660e-15\n",
            " 5.95701278e-15 5.88775156e-15 5.64683395e-15 5.53344642e-15\n",
            " 5.36857879e-15 5.27719168e-15 4.96179219e-15 4.90524754e-15\n",
            " 4.76784555e-15 4.71143174e-15 4.59745855e-15 4.50039148e-15\n",
            " 4.27198729e-15 4.22160540e-15 4.10492177e-15 3.99645013e-15\n",
            " 3.89345100e-15 3.84965259e-15 3.70209467e-15 3.61690365e-15\n",
            " 3.46827792e-15 3.42305413e-15 3.20575643e-15 3.10923228e-15\n",
            " 3.04359248e-15 2.98623448e-15 2.88261907e-15 2.83439722e-15\n",
            " 2.62470635e-15 2.55484621e-15 2.43556654e-15 2.34184794e-15\n",
            " 2.20936789e-15 2.13708811e-15 2.06819371e-15 1.92402661e-15\n",
            " 1.87150023e-15 1.79722955e-15 1.67440907e-15 1.61502139e-15\n",
            " 1.50780530e-15 1.45897432e-15 1.36905313e-15 1.28054180e-15\n",
            " 1.15998168e-15 1.13632608e-15 1.03293502e-15 8.86628576e-16\n",
            " 8.55759607e-16 7.91861847e-16 7.56817923e-16 5.68734518e-16\n",
            " 5.22908234e-16 5.03523423e-16 4.13992907e-16 2.55049074e-16\n",
            " 1.94067857e-16 1.72334932e-16 1.59938698e-16 2.14458400e-17]\n",
            "100\n",
            "100\n"
          ]
        }
      ]
    },
    {
      "cell_type": "code",
      "metadata": {
        "id": "dox8qTnQB1r4"
      },
      "source": [
        "?np.linalg.matrix_rank"
      ],
      "execution_count": null,
      "outputs": []
    },
    {
      "cell_type": "code",
      "metadata": {
        "id": "XjzD_UdpB1ki"
      },
      "source": [
        ""
      ],
      "execution_count": null,
      "outputs": []
    },
    {
      "cell_type": "code",
      "metadata": {
        "id": "bTSUfJ2gB1ae"
      },
      "source": [
        ""
      ],
      "execution_count": null,
      "outputs": []
    },
    {
      "cell_type": "markdown",
      "metadata": {
        "id": "WWVbfOMVPaYa"
      },
      "source": [
        "$$ \\det(A - \\lambda I) = 0 $$\n",
        "\n",
        "$$ A = Q R $$"
      ]
    },
    {
      "cell_type": "code",
      "metadata": {
        "colab": {
          "base_uri": "https://localhost:8080/",
          "height": 296
        },
        "id": "TaixMyHy_qQU",
        "outputId": "b6c7fc07-60fd-46e4-ecbd-1d37fc047d14"
      },
      "source": [
        "import matplotlib.pyplot as plt\n",
        "\n",
        "import numpy as np\n",
        "n = 40\n",
        "a = [[1.0 / (i - j + 0.5) for i in range(n)] for j in range(n)]\n",
        "a = np.array(a)\n",
        "# print(a)\n",
        "ev = np.linalg.eigvals(a)\n",
        "#There is a special numpy function for chacteristic polynomial\n",
        "cf = np.poly(a)\n",
        "ev_roots = np.roots(cf)\n",
        "#print('Coefficients of the polynomial:', cf)\n",
        "#print('Polynomial roots:', ev_roots)\n",
        "plt.scatter(ev_roots.real, ev_roots.imag, marker='x', label='roots')\n",
        "# b = a + 0 * np.random.randn(n, n)\n",
        "# ev_b = np.linalg.eigvals(b)\n",
        "plt.scatter(ev.real, ev.imag, marker='o', label='Lapack')\n",
        "# plt.scatter(ev_roots.real, ev_roots.imag, marker='o', label='Brute force')\n",
        "plt.legend(loc='best')\n",
        "plt.xlabel('Real part')\n",
        "plt.ylabel('Imaginary part')"
      ],
      "execution_count": null,
      "outputs": [
        {
          "output_type": "execute_result",
          "data": {
            "text/plain": [
              "Text(0, 0.5, 'Imaginary part')"
            ]
          },
          "metadata": {},
          "execution_count": 89
        },
        {
          "output_type": "display_data",
          "data": {
            "image/png": "[encoded data removed]",
            "text/plain": [
              "<Figure size 432x288 with 1 Axes>"
            ]
          },
          "metadata": {
            "needs_background": "light"
          }
        }
      ]
    },
    {
      "cell_type": "code",
      "metadata": {
        "colab": {
          "base_uri": "https://localhost:8080/"
        },
        "id": "QXhh41fFBUV9",
        "outputId": "66a756f9-8cd5-4775-8af7-398aec445571"
      },
      "source": [
        "np.linalg.qr(A)"
      ],
      "execution_count": null,
      "outputs": [
        {
          "output_type": "execute_result",
          "data": {
            "text/plain": [
              "(array([[-0.17159382,  0.01782816,  0.02507445, ..., -0.00505849,\n",
              "         -0.01252549,  0.04001099],\n",
              "        [-0.0571821 , -0.22320694,  0.03245813, ..., -0.00819441,\n",
              "         -0.02686892,  0.01532162],\n",
              "        [-0.10880394, -0.05855765, -0.11243104, ..., -0.02004959,\n",
              "         -0.01118578, -0.03207087],\n",
              "        ...,\n",
              "        [-0.07196561, -0.05356336, -0.04084064, ..., -0.01387182,\n",
              "         -0.0444451 , -0.00851206],\n",
              "        [-0.21747108, -0.17888945,  0.01869124, ...,  0.21599453,\n",
              "         -0.11585284,  0.03699648],\n",
              "        [ 0.00276096, -0.11629488, -0.12582458, ..., -0.05880131,\n",
              "          0.03252362,  0.03811829]]),\n",
              " array([[-1.44045169e+01, -7.18270488e+00, -1.21604976e+01, ...,\n",
              "         -9.95799742e+00, -2.01360395e+01, -2.79355930e+00],\n",
              "        [ 0.00000000e+00, -2.29315343e+01, -8.53200993e+00, ...,\n",
              "         -5.81461795e+00, -1.97404996e+01, -8.84271610e+00],\n",
              "        [ 0.00000000e+00,  0.00000000e+00, -1.46478975e+01, ...,\n",
              "         -7.06117357e+00, -6.06097491e+00, -1.44957360e+01],\n",
              "        ...,\n",
              "        [ 0.00000000e+00,  0.00000000e+00,  0.00000000e+00, ...,\n",
              "          3.08410639e-16,  9.99942593e-16, -5.86900482e-16],\n",
              "        [ 0.00000000e+00,  0.00000000e+00,  0.00000000e+00, ...,\n",
              "          0.00000000e+00, -4.32338736e-16, -7.91355215e-16],\n",
              "        [ 0.00000000e+00,  0.00000000e+00,  0.00000000e+00, ...,\n",
              "          0.00000000e+00,  0.00000000e+00, -7.10589959e-16]]))"
            ]
          },
          "metadata": {},
          "execution_count": 90
        }
      ]
    },
    {
      "cell_type": "code",
      "metadata": {
        "colab": {
          "base_uri": "https://localhost:8080/"
        },
        "id": "JYHqENnPQT40",
        "outputId": "19a87545-d8f5-4d8d-bcba-43883797bf68"
      },
      "source": [
        "A = np.random.randn(n, n)\n",
        "A = A.T + A - 10 * np.eye(n)\n",
        "s = np.linalg.svd(A, compute_uv=False)\n",
        "print(s)\n",
        "np.linalg.eigvalsh(A)"
      ],
      "execution_count": null,
      "outputs": [
        {
          "output_type": "stream",
          "name": "stdout",
          "text": [
            "[24.94871704 24.40487178 23.79708952 23.14866217 21.40554078 19.71163727\n",
            " 19.26493502 18.49746326 17.93554742 17.19606922 16.32154539 15.47682616\n",
            " 14.75076652 14.60901996 14.01071526 13.15681389 12.42722994 11.67971819\n",
            " 10.86719754 10.31352862  9.37851182  9.24625357  8.14463137  7.9223374\n",
            "  7.14366449  6.69191094  5.96177662  5.87648767  5.71325322  4.92003944\n",
            "  4.64949277  4.38150135  2.74969129  2.40156133  1.94422769  1.80777669\n",
            "  1.13239097  0.72296108  0.55088022  0.21484911]\n"
          ]
        },
        {
          "output_type": "execute_result",
          "data": {
            "text/plain": [
              "array([-24.94871704, -24.40487178, -23.79708952, -23.14866217,\n",
              "       -21.40554078, -19.71163727, -19.26493502, -18.49746326,\n",
              "       -17.93554742, -17.19606922, -16.32154539, -15.47682616,\n",
              "       -14.75076652, -14.60901996, -14.01071526, -13.15681389,\n",
              "       -12.42722994, -11.67971819, -10.86719754, -10.31352862,\n",
              "        -9.37851182,  -9.24625357,  -8.14463137,  -7.9223374 ,\n",
              "        -7.14366449,  -6.69191094,  -5.96177662,  -4.92003944,\n",
              "        -4.38150135,  -2.74969129,  -1.94422769,  -1.13239097,\n",
              "        -0.55088022,  -0.21484911,   0.72296108,   1.80777669,\n",
              "         2.40156133,   4.64949277,   5.71325322,   5.87648767])"
            ]
          },
          "metadata": {},
          "execution_count": 117
        }
      ]
    },
    {
      "cell_type": "code",
      "metadata": {
        "id": "ZUBhZzXaQqUV"
      },
      "source": [
        "def power_method(A, x0, num_iter):\n",
        "    x = x0.copy()\n",
        "    for i in range(num_iter):\n",
        "        x = A @ x \n",
        "        x = x / np.linalg.norm(x)\n",
        "    return x"
      ],
      "execution_count": null,
      "outputs": []
    },
    {
      "cell_type": "code",
      "metadata": {
        "id": "VbUby69rRG7z"
      },
      "source": [
        "v = power_method(A, np.random.randn(n), 1000)"
      ],
      "execution_count": null,
      "outputs": []
    },
    {
      "cell_type": "code",
      "metadata": {
        "colab": {
          "base_uri": "https://localhost:8080/"
        },
        "id": "3Dhj1hrURMdv",
        "outputId": "e5a86f36-d448-4e76-c0fe-75e568e5c601"
      },
      "source": [
        "v, np.linalg.norm(v)"
      ],
      "execution_count": null,
      "outputs": [
        {
          "output_type": "execute_result",
          "data": {
            "text/plain": [
              "(array([ 0.25985568, -0.12796617,  0.0730096 ,  0.05382197, -0.10520749,\n",
              "         0.02593144, -0.02943074,  0.09459162,  0.07388383, -0.28728863,\n",
              "        -0.08059549,  0.09965786, -0.03740553,  0.2131939 ,  0.22730344,\n",
              "        -0.25421595,  0.0100683 , -0.0897097 , -0.05680905, -0.15879122,\n",
              "         0.18706247,  0.01404265,  0.01055132,  0.10543405,  0.12786534,\n",
              "         0.27032988,  0.12423125,  0.22969457,  0.1153521 , -0.24688728,\n",
              "         0.17321903,  0.09939966, -0.31296817,  0.16137739,  0.2392383 ,\n",
              "         0.09200377,  0.16356604,  0.10104588, -0.18117772,  0.06707298]),\n",
              " 0.9999999999999998)"
            ]
          },
          "metadata": {},
          "execution_count": 120
        }
      ]
    },
    {
      "cell_type": "markdown",
      "metadata": {
        "id": "f7-jllBiRYzG"
      },
      "source": [
        "$$ Av = \\lambda v $$\n",
        "\n",
        "$$v^{\\top} Av = \\lambda v^{\\top}v = \\lambda \\|v\\|_2^2 = \\lambda$$\n",
        "\n",
        "$$ A = UVU^{\\top},$$ $U$ is orthogonal and $V$ is diagonal with eigenvalues in the diagonal\n",
        "\n",
        "$$ A - \\mu I = UVU^{\\top} - \\mu UU^{\\top} = U(V - \\mu I)U^{\\top}$$"
      ]
    },
    {
      "cell_type": "code",
      "metadata": {
        "colab": {
          "base_uri": "https://localhost:8080/"
        },
        "id": "Ar3OcWZaROX-",
        "outputId": "b76a3a4d-465d-43bc-a43d-bca0b018eb93"
      },
      "source": [
        "v @ A @ v "
      ],
      "execution_count": null,
      "outputs": [
        {
          "output_type": "execute_result",
          "data": {
            "text/plain": [
              "-24.948717038265936"
            ]
          },
          "metadata": {},
          "execution_count": 121
        }
      ]
    },
    {
      "cell_type": "code",
      "metadata": {
        "colab": {
          "base_uri": "https://localhost:8080/"
        },
        "id": "rgTFCDSJRo4K",
        "outputId": "6cfaba13-1df8-4e29-953f-b5b0d2d40b72"
      },
      "source": [
        "np.linalg.eigvalsh(A)"
      ],
      "execution_count": null,
      "outputs": [
        {
          "output_type": "execute_result",
          "data": {
            "text/plain": [
              "array([-24.94871704, -24.40487178, -23.79708952, -23.14866217,\n",
              "       -21.40554078, -19.71163727, -19.26493502, -18.49746326,\n",
              "       -17.93554742, -17.19606922, -16.32154539, -15.47682616,\n",
              "       -14.75076652, -14.60901996, -14.01071526, -13.15681389,\n",
              "       -12.42722994, -11.67971819, -10.86719754, -10.31352862,\n",
              "        -9.37851182,  -9.24625357,  -8.14463137,  -7.9223374 ,\n",
              "        -7.14366449,  -6.69191094,  -5.96177662,  -4.92003944,\n",
              "        -4.38150135,  -2.74969129,  -1.94422769,  -1.13239097,\n",
              "        -0.55088022,  -0.21484911,   0.72296108,   1.80777669,\n",
              "         2.40156133,   4.64949277,   5.71325322,   5.87648767])"
            ]
          },
          "metadata": {},
          "execution_count": 122
        }
      ]
    },
    {
      "cell_type": "code",
      "metadata": {
        "id": "_YnVqRa1RteX"
      },
      "source": [
        ""
      ],
      "execution_count": null,
      "outputs": []
    }
  ]
}