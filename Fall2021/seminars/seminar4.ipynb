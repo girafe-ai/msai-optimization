{
 "cells": [
  {
   "cell_type": "code",
   "execution_count": 42,
   "metadata": {},
   "outputs": [],
   "source": [
    "import numpy as np\n",
    "import cvxpy as cp\n",
    "import matplotlib.pyplot as plt"
   ]
  },
  {
   "cell_type": "markdown",
   "metadata": {},
   "source": [
    "## Sparse index fund"
   ]
  },
  {
   "cell_type": "code",
   "execution_count": 43,
   "metadata": {},
   "outputs": [],
   "source": [
    "# number of stocks\n",
    "n = 500\n",
    "# number of factors (not described or needed in problem statement)\n",
    "k = 20\n",
    "\n",
    "# generate rbar, Sigma\n",
    "# factor matrix, entries uniform on [-0.5,1]\n",
    "F = 1.5 * np.random.rand(n, k) - 0.5\n",
    "Sigma = 0.5 * F @ np.diag(np.random.rand(k)) @ F.T + np.diag(0.1 * np.random.rand(n))\n",
    "# risk-free return (weekly, 5% annual)\n",
    "mu_rf = 0.2\n",
    "# Sharpe ratio\n",
    "SR = 0.4\n",
    "# expected return\n",
    "rbar = mu_rf + SR * np.sqrt(np.diag(Sigma))\n",
    "# market capitalization (index weights)\n",
    "c = 5 + np.exp(2 * np.random.randn(n))"
   ]
  },
  {
   "cell_type": "code",
   "execution_count": 44,
   "metadata": {},
   "outputs": [
    {
     "name": "stdout",
     "output_type": "stream",
     "text": [
      "(10000, 500)\n"
     ]
    }
   ],
   "source": [
    "num_samples = 10000\n",
    "r = np.random.multivariate_normal(rbar, Sigma, num_samples)\n",
    "print(r.shape)"
   ]
  },
  {
   "cell_type": "code",
   "execution_count": 53,
   "metadata": {},
   "outputs": [],
   "source": [
    "rhs = r @ c\n",
    "threshold = 5e-1"
   ]
  },
  {
   "cell_type": "code",
   "execution_count": 54,
   "metadata": {},
   "outputs": [
    {
     "name": "stdout",
     "output_type": "stream",
     "text": [
      "----------------------------------------------------------------------------\n",
      "\tSCS v1.2.6 - Splitting Conic Solver\n",
      "\t(c) Brendan O'Donoghue, Stanford University, 2012-2016\n",
      "----------------------------------------------------------------------------\n",
      "Lin-sys: sparse-indirect, nnz in A = 5002002, CG tol ~ 1/iter^(2.00)\n",
      "eps = 1.00e-04, alpha = 1.50, max_iters = 2500, normalize = 1, scale = 1.00\n",
      "Variables n = 1001, constraints m = 11002\n",
      "Cones:\tlinear vars: 1001\n",
      "\tsoc vars: 10001, soc blks: 1\n",
      "Setup time: 2.07e-01s\n",
      "----------------------------------------------------------------------------\n",
      " Iter | pri res | dua res | rel gap | pri obj | dua obj | kap/tau | time (s)\n",
      "----------------------------------------------------------------------------\n",
      "     0| 5.88e-01  1.10e+00  1.00e+00 -2.33e+06 -0.00e+00  2.42e-09  1.22e+00 \n",
      "   100| 1.40e-03  1.59e-02  8.83e-01  1.01e+02  1.63e+03  2.27e-09  3.11e+01 \n",
      "   200| 5.37e-04  8.17e-03  6.90e-02  2.16e+03  2.48e+03  2.29e-09  7.11e+01 \n",
      "   300| 8.42e-06  7.82e-05  1.80e-04  2.44e+03  2.44e+03  2.29e-09  1.12e+02 \n",
      "   320| 4.27e-06  3.59e-05  1.91e-06  2.44e+03  2.44e+03  2.29e-09  1.19e+02 \n",
      "----------------------------------------------------------------------------\n",
      "Status: Solved\n",
      "Timing: Solve time: 1.19e+02s\n",
      "\tLin-sys: avg # CG iterations: 22.65, avg solve time: 3.69e-01s\n",
      "\tCones: avg projection time: 1.78e-05s\n",
      "----------------------------------------------------------------------------\n",
      "Error metrics:\n",
      "dist(s, K) = 2.0373e-10, dist(y, K*) = 0.0000e+00, s'y/|s||y| = 9.2722e-19\n",
      "|Ax + s - b|_2 / (1 + |b|_2) = 4.2705e-06\n",
      "|A'y + c|_2 / (1 + |c|_2) = 3.5884e-05\n",
      "|c'x + b'y| / (1 + |c'x| + |b'y|) = 1.9134e-06\n",
      "----------------------------------------------------------------------------\n",
      "c'x = 2436.4801, -b'y = 2436.4895\n",
      "============================================================================\n"
     ]
    },
    {
     "data": {
      "text/plain": [
       "2436.480143128848"
      ]
     },
     "execution_count": 54,
     "metadata": {},
     "output_type": "execute_result"
    }
   ],
   "source": [
    "w = cp.Variable(n)\n",
    "\n",
    "obj = cp.Minimize(cp.norm1(w))\n",
    "constr = [cp.norm2(r @ w - rhs) <= threshold * np.linalg.norm(rhs)]\n",
    "\n",
    "problem = cp.Problem(obj, constr)\n",
    "problem.solve(solver=cp.SCS, verbose=True)"
   ]
  },
  {
   "cell_type": "code",
   "execution_count": 58,
   "metadata": {},
   "outputs": [
    {
     "data": {
      "text/plain": [
       "(9, 500)"
      ]
     },
     "execution_count": 58,
     "metadata": {},
     "output_type": "execute_result"
    }
   ],
   "source": [
    "np.sum(np.abs(w.value) > 0.05), np.sum(np.abs(c) > 0.05)"
   ]
  },
  {
   "cell_type": "code",
   "execution_count": 56,
   "metadata": {},
   "outputs": [
    {
     "data": {
      "text/plain": [
       "<matplotlib.legend.Legend at 0x7f9fd09d9dd8>"
      ]
     },
     "execution_count": 56,
     "metadata": {},
     "output_type": "execute_result"
    },
    {
     "data": {
      "image/png": "[encoded data removed]",
      "text/plain": [
       "<Figure size 720x504 with 1 Axes>"
      ]
     },
     "metadata": {},
     "output_type": "display_data"
    }
   ],
   "source": [
    "plt.figure(figsize=(10,7))\n",
    "plt.plot(w.value, label=\"Sparse\")\n",
    "plt.plot(c, label=\"Initial\")\n",
    "plt.yscale(\"log\")\n",
    "plt.legend()"
   ]
  },
  {
   "cell_type": "markdown",
   "metadata": {},
   "source": [
    "# Sparse covariance estimation for Gaussian variables\n",
    "\n",
    "## Introduction\n",
    "\n",
    "Suppose $y \\in \\mathbf{\\mbox{R}}^n$ is a Gaussian random variable with zero mean and\n",
    "covariance matrix $R = \\mathbf{\\mbox{E}}[yy^T]$, with sparse inverse $S = R^{-1}$\n",
    "($S_{ij} = 0$ means that $y_i$ and $y_j$ are conditionally independent).\n",
    "We want to estimate the covariance matrix $R$ based on $N$ independent\n",
    "samples $y_1,\\dots,y_N$ drawn from the distribution, and using prior knowledge\n",
    "that $S$ is sparse\n",
    "\n",
    "A good heuristic for estimating $R$ is to solve the problem\n",
    "  $$\\begin{array}{ll}\n",
    "    \\mbox{maximize}   & \\log \\det(S) - \\mbox{tr}(SY) \\\\\n",
    "    \\mbox{subject to} & \\sum_{i=1}^n \\sum_{j=1}^n |S_{ij}| \\le \\alpha \\\\\n",
    "                      & S \\succeq 0,\n",
    "    \\end{array}$$\n",
    "where $Y$ is the sample covariance of $y_1,\\dots,y_N$, and $\\alpha$ is a sparsity\n",
    "parameter to be chosen or tuned.\n",
    "\n",
    "**Remark**: more detailed description of the objective function is given [here](http://people.eecs.berkeley.edu/~jordan/courses/260-spring10/other-readings/chapter13.pdf), in particular eq. (13.50)\n",
    "\n",
    "## Generate problem data"
   ]
  },
  {
   "cell_type": "code",
   "execution_count": 78,
   "metadata": {},
   "outputs": [],
   "source": [
    "import cvxpy as cp\n",
    "import numpy as np\n",
    "import scipy as scipy\n",
    "\n",
    "# Dimension of matrix.\n",
    "n = 10\n",
    "\n",
    "# Number of samples, y_i\n",
    "N = 1000\n",
    "\n",
    "# Create sparse, symmetric PSD matrix S\n",
    "A = np.random.randn(n, n)  # Unit normal gaussian distribution.\n",
    "A[scipy.sparse.rand(n, n, 0.85).todense().nonzero()] = 0  # Sparsen the matrix.\n",
    "Strue = A.dot(A.T) + 0.05 * np.eye(n)  # Force strict pos. def.\n",
    "\n",
    "# Create the covariance matrix associated with S.\n",
    "R = np.linalg.inv(Strue)\n",
    "\n",
    "# Create samples y_i from the distribution with covariance R. \n",
    "y_sample = scipy.linalg.sqrtm(R).dot(np.random.randn(n, N))\n",
    "\n",
    "# Calculate the sample covariance matrix.\n",
    "Y = np.cov(y_sample)"
   ]
  },
  {
   "cell_type": "code",
   "execution_count": 79,
   "metadata": {},
   "outputs": [
    {
     "name": "stdout",
     "output_type": "stream",
     "text": [
      "----------------------------------------------------------------------------\n",
      "\tSCS v1.2.6 - Splitting Conic Solver\n",
      "\t(c) Brendan O'Donoghue, Stanford University, 2012-2016\n",
      "----------------------------------------------------------------------------\n",
      "Lin-sys: sparse-indirect, nnz in A = 1415, CG tol ~ 1/iter^(2.00)\n",
      "eps = 1.00e-04, alpha = 1.50, max_iters = 2500, normalize = 1, scale = 1.00\n",
      "Variables n = 485, constraints m = 906\n",
      "Cones:\tprimal zero / dual free vars: 355\n",
      "\tlinear vars: 201\n",
      "\tsd vars: 320, sd blks: 3\n",
      "\texp vars: 30, dual exp vars: 0\n",
      "Setup time: 8.79e-03s\n",
      "----------------------------------------------------------------------------\n",
      " Iter | pri res | dua res | rel gap | pri obj | dua obj | kap/tau | time (s)\n",
      "----------------------------------------------------------------------------\n",
      "     0|      inf       inf       nan      -inf       inf       inf  2.70e-03 \n",
      "   100| 3.48e-03  3.42e-03  9.82e-03  2.10e+01  2.14e+01  1.71e-14  3.18e-02 \n",
      "   200| 1.43e-03  1.09e-03  3.07e-03  2.23e+01  2.24e+01  9.32e-15  5.36e-02 \n",
      "   300| 8.89e-04  7.12e-04  1.88e-03  2.25e+01  2.26e+01  9.82e-15  7.27e-02 \n",
      "   400| 6.01e-04  4.74e-04  1.20e-03  2.27e+01  2.28e+01  1.01e-14  9.24e-02 \n",
      "   500| 4.30e-04  3.20e-04  7.93e-04  2.28e+01  2.28e+01  1.04e-14  1.12e-01 \n",
      "   600| 3.21e-04  2.21e-04  5.41e-04  2.29e+01  2.29e+01  1.05e-14  1.31e-01 \n",
      "   700| 2.48e-04  1.55e-04  3.80e-04  2.29e+01  2.29e+01  1.06e-14  1.49e-01 \n",
      "   800| 1.96e-04  1.12e-04  2.73e-04  2.29e+01  2.29e+01  1.07e-14  1.67e-01 \n",
      "   900| 1.56e-04  8.24e-05  2.01e-04  2.29e+01  2.29e+01  1.07e-14  1.86e-01 \n",
      "  1000| 1.26e-04  6.19e-05  1.51e-04  2.29e+01  2.30e+01  1.08e-14  2.04e-01 \n",
      "  1100| 1.02e-04  4.73e-05  1.16e-04  2.30e+01  2.30e+01  1.08e-14  2.23e-01 \n",
      "  1160| 8.98e-05  4.05e-05  9.90e-05  2.30e+01  2.30e+01  1.08e-14  2.34e-01 \n",
      "----------------------------------------------------------------------------\n",
      "Status: Solved\n",
      "Timing: Solve time: 2.34e-01s\n",
      "\tLin-sys: avg # CG iterations: 5.99, avg solve time: 5.29e-05s\n",
      "\tCones: avg projection time: 1.36e-04s\n",
      "----------------------------------------------------------------------------\n",
      "Error metrics:\n",
      "dist(s, K) = 2.1311e-09, dist(y, K*) = 2.2715e-09, s'y/|s||y| = -1.3582e-10\n",
      "|Ax + s - b|_2 / (1 + |b|_2) = 8.9836e-05\n",
      "|A'y + c|_2 / (1 + |c|_2) = 4.0522e-05\n",
      "|c'x + b'y| / (1 + |c'x| + |b'y|) = 9.8995e-05\n",
      "----------------------------------------------------------------------------\n",
      "c'x = 22.9592, -b'y = 22.9639\n",
      "============================================================================\n"
     ]
    }
   ],
   "source": [
    "alpha = n\n",
    "S = cp.Variable(shape=(n,n), PSD=True)\n",
    "obj = cp.Maximize(cp.log_det(S) - cp.trace(S * Y))\n",
    "\n",
    "# Set constraint.\n",
    "constraints = [cp.sum(cp.abs(S)) <= alpha]\n",
    "\n",
    "# Form and solve optimization problem\n",
    "prob = cp.Problem(obj, constraints)\n",
    "prob.solve(solver=cp.SCS, verbose=True)\n",
    "\n",
    "# If the covariance matrix R is desired, here is how it to create it.\n",
    "R_hat = np.linalg.inv(S.value)"
   ]
  },
  {
   "cell_type": "code",
   "execution_count": 80,
   "metadata": {},
   "outputs": [],
   "source": [
    "# Threshold S element values to enforce exact zeros:\n",
    "S = S.value\n",
    "S[abs(S) <= 1e-4] = 0"
   ]
  },
  {
   "cell_type": "code",
   "execution_count": 81,
   "metadata": {},
   "outputs": [
    {
     "data": {
      "text/plain": [
       "<Figure size 432x288 with 0 Axes>"
      ]
     },
     "metadata": {},
     "output_type": "display_data"
    },
    {
     "data": {
      "image/png": "[encoded data removed]",
      "text/plain": [
       "<Figure size 864x864 with 1 Axes>"
      ]
     },
     "metadata": {},
     "output_type": "display_data"
    },
    {
     "data": {
      "text/plain": [
       "Text(0.5, 1.05, 'Estimated inv. cov matrix, $\\\\alpha$=10')"
      ]
     },
     "execution_count": 81,
     "metadata": {},
     "output_type": "execute_result"
    },
    {
     "data": {
      "image/png": "[encoded data removed]",
      "text/plain": [
       "<Figure size 432x288 with 1 Axes>"
      ]
     },
     "metadata": {},
     "output_type": "display_data"
    }
   ],
   "source": [
    "import matplotlib.pyplot as plt\n",
    "\n",
    "# Show plot inline in ipython.\n",
    "%matplotlib inline\n",
    "\n",
    "# Plot properties.\n",
    "plt.rc('text', usetex=True)\n",
    "plt.rc('font', family='serif')\n",
    "\n",
    "# Create figure.\n",
    "plt.figure()\n",
    "plt.figure(figsize=(12, 12))\n",
    "\n",
    "# Plot sparsity pattern for the true covariance matrix.\n",
    "plt.subplot(2, 2, 1)\n",
    "plt.spy(Strue)\n",
    "plt.title('Inverse of true covariance matrix', fontsize=16)\n",
    "plt.show()\n",
    "\n",
    "# Plot sparsity pattern for each result, corresponding to a specific alpha.\n",
    "plt.spy(S)\n",
    "plt.title('Estimated inv. cov matrix, $\\\\alpha$={}'.format(alpha), fontsize=16)"
   ]
  },
  {
   "cell_type": "code",
   "execution_count": 84,
   "metadata": {},
   "outputs": [
    {
     "data": {
      "text/plain": [
       "-1.0582655424918567e-09"
      ]
     },
     "execution_count": 84,
     "metadata": {},
     "output_type": "execute_result"
    }
   ],
   "source": [
    "x = cp.Variable(2)\n",
    "# problem = cp.Problem(cp.Minimize(cp.norm(x)), [x[0] >= 0, x[1] * x[0] >= 0])\n",
    "problem = cp.Problem(cp.Minimize(cp.norm(x)), [cp.bmat([[x[0], 0], [0, x[1]]]) >> 0])\n",
    "problem.solve(solver=cp.SCS)"
   ]
  },
  {
   "cell_type": "code",
   "execution_count": 85,
   "metadata": {},
   "outputs": [
    {
     "data": {
      "text/plain": [
       "array([0., 0.])"
      ]
     },
     "execution_count": 85,
     "metadata": {},
     "output_type": "execute_result"
    }
   ],
   "source": [
    "x.value"
   ]
  },
  {
   "cell_type": "code",
   "execution_count": null,
   "metadata": {},
   "outputs": [],
   "source": []
  }
 ],
 "metadata": {
  "kernelspec": {
   "display_name": "Python 3 (cvxpy)",
   "language": "python",
   "name": "cvxpy"
  },
  "language_info": {
   "codemirror_mode": {
    "name": "ipython",
    "version": 3
   },
   "file_extension": ".py",
   "mimetype": "text/x-python",
   "name": "python",
   "nbconvert_exporter": "python",
   "pygments_lexer": "ipython3",
   "version": "3.6.8"
  }
 },
 "nbformat": 4,
 "nbformat_minor": 4
}
