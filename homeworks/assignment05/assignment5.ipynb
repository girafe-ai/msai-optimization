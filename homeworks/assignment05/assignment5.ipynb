{
 "cells": [
  {
   "cell_type": "markdown",
   "metadata": {},
   "source": [
    "## Assignment 5 (14 pts) ([submission form](https://forms.gle/P8ekXdSjhnQHwsny9) and only filled ipynb file should be submitted!\n",
    "\n",
    "### Control by landing of spaceship\n",
    "\n",
    "Practical implementation of the ideas from this problem see [here](https://www.youtube.com/watch?v=2t15vP1PyoA)\n",
    "\n",
    "In this problem we assume that the dynamic of spaceship controls by the Newton's second law\n",
    "\n",
    "$$\n",
    "mx''(t) = f(t) - mge_3,\n",
    "$$\n",
    "\n",
    "where $e_3$ is a vector $(0, 0, 1)$, $m$ is a mass that is constant by our assumption (otherwise we will get much complicated dynamic), $f(t)$ is a force that we can control, $x''(t)$ is acceleration.\n",
    "We also skip the atmosphere affects.\n",
    "This is vector equation, so $x(t)$ and $f(t)$ and 3D vectors in every timestamp. "
   ]
  },
  {
   "cell_type": "markdown",
   "metadata": {},
   "source": [
    "#### Dynamic equation we can get after discretization of the above equation\n",
    "\n",
    "For speed we get\n",
    "\n",
    "$$\n",
    "m\\frac{v_{k+1} - v_k}{h} = f_k - mge_3, \\quad v_{k+1} = v_k + \\frac{h}{m} f_k - hge_3\n",
    "$$\n",
    "\n",
    "and similarly for coordinates\n",
    "\n",
    "$$\n",
    "x' = v \\quad x_{k+1} = x_k + \\frac{h}{2}(v_k + v_{k+1})\n",
    "$$\n",
    "\n",
    "We use here Runge-Kutta method of the order 2, more details see [here](http://web.mit.edu/10.001/Web/Course_Notes/Differential_Equations_Notes/node5.html).\n",
    "\n",
    "The landing point has coordinates $(0, 0, 0)$ and for successful landing the final speed has to be zero. \n",
    "Also, during the landing it is important to prevent shift of the spaceshift in the vertical axis, so the $z$-coordinate can not be smaller than its projection on the plane $(x, y)$ in given factor\n",
    "\n",
    "$$\n",
    "x_3(t) \\geq \\alpha \\| (x_1(t), x_2(t)) \\|_2.\n",
    "$$\n",
    "\n",
    "Since force is created my engine that consumes fuel, we have some upper bound on the force\n",
    "\n",
    "$$\n",
    "\\|f(t)\\|_2 \\leq F_{\\max}.\n",
    "$$\n",
    "\n",
    "Also the amount of the consumed fuel can be computed by the following equation\n",
    "\n",
    "$$\n",
    "\\gamma \\int_0^T \\|f(t)\\|_2 dt,\n",
    "$$\n",
    "\n",
    " where $\\gamma$ is a fuel consumption coefficient, $T$ is a landing time. \n",
    " \n",
    "During time discretization we can assume that $f(t)$ is constant in every interval $[(k-1)h; kh]$ for $k=1,\\ldots,K$. Thus, the total time for landing is $Kh$. "
   ]
  },
  {
   "cell_type": "markdown",
   "metadata": {},
   "source": [
    "**Task 1**\n",
    "Find the position, speed and forse in evert timestamp such that the total amount of consumed fuel is minimal\n",
    "\n",
    "1) (2 pts) State optimization problem formally\n",
    "\n",
    "2) (3 pts) Solve it with CVXPy and visualize solution \n",
    "\n",
    "**Task 2**\n",
    "Find the minimal time that is sufficient to land the spaceship. i.e. if the time discretization step $h$ is fixed, we need to find the minila time to move spaceship from the initial point to the final point with final speed.\n",
    "You can solve multiple auxilliary problem to solve this problem.\n",
    "\n",
    "3) (5 pts) State optimization problem formally\n",
    "\n",
    "4) (4 pts) Solve it with CVXPy and visualize solution. Compare the resulted trajectory with the trajectory from the task 1. How much requirement of the minimal time increased the amount of consumed fuel?"
   ]
  },
  {
   "cell_type": "code",
   "execution_count": null,
   "metadata": {},
   "outputs": [],
   "source": [
    "import numpy as np\n",
    "import matplotlib.pyplot as plt\n",
    "from mpl_toolkits.mplot3d import Axes3D\n",
    "from matplotlib import cm\n",
    "%matplotlib inline\n",
    "import cvxpy as cvx\n",
    "\n",
    "# Time discretiztion step\n",
    "h = 1.\n",
    "# Gravity acceleration. It is just demo value to scale the solution time!\n",
    "g = 0.1\n",
    "# Mass\n",
    "m = 10.\n",
    "# Maximum norm of forse\n",
    "Fmax = 10.\n",
    "# Initial position\n",
    "p0 = np.array([50, 50, 100])\n",
    "# Initial velocity\n",
    "v0 = np.array([-10, 0, -10])\n",
    "# Factor of minimum slope\n",
    "alpha = 0.5\n",
    "# Fuel consumption factor\n",
    "gamma = 1.\n",
    "# Number of discretization steps, i.e. final time equals K*h\n",
    "K = 35"
   ]
  },
  {
   "cell_type": "code",
   "execution_count": null,
   "metadata": {},
   "outputs": [],
   "source": [
    "# Your solution is here"
   ]
  },
  {
   "cell_type": "code",
   "execution_count": null,
   "metadata": {},
   "outputs": [],
   "source": [
    "# use the following code to plot your trajectories\n",
    "# and the glide cone (don't modify)\n",
    "# -------------------------------------------------------\n",
    "fig = plt.figure()\n",
    "ax = fig.gca(projection='3d')\n",
    "\n",
    "X = np.linspace(-40, 55, num=30)\n",
    "Y = np.linspace(0, 55, num=30)\n",
    "X, Y = np.meshgrid(X, Y)\n",
    "Z = alpha*np.sqrt(X**2+Y**2)\n",
    "ax.plot_surface(X, Y, Z, rstride=1, cstride=1, cmap=cm.coolwarm, linewidth=0)\n",
    "#Have your solution be stored in p, which meana positions\n",
    "# ax.plot(xs=p.value[0,:],ys=p.value[1,:],zs=p.value[2,:], c=\"red\")\n",
    "ax.set_xlabel('x'); ax.set_ylabel('y'); ax.set_zlabel('z')\n",
    "plt.tight_layout()"
   ]
  }
 ],
 "metadata": {
  "kernelspec": {
   "display_name": "Python 3 (cvxpy)",
   "language": "python",
   "name": "cvxpy"
  },
  "language_info": {
   "codemirror_mode": {
    "name": "ipython",
    "version": 3
   },
   "file_extension": ".py",
   "mimetype": "text/x-python",
   "name": "python",
   "nbconvert_exporter": "python",
   "pygments_lexer": "ipython3",
   "version": "3.6.8"
  }
 },
 "nbformat": 4,
 "nbformat_minor": 2
}
