{
 "cells": [
  {
   "cell_type": "markdown",
   "metadata": {
    "slideshow": {
     "slide_type": "slide"
    }
   },
   "source": [
    "# Newton method"
   ]
  },
  {
   "cell_type": "markdown",
   "metadata": {
    "slideshow": {
     "slide_type": "slide"
    }
   },
   "source": [
    "## Idea of Newton method\n",
    "\n",
    "Consider\n",
    "\n",
    "$$\n",
    "\\min\\limits_{x\\ \\in \\mathbb{R}^n} f(x).\n",
    "$$\n",
    "\n",
    "- GD $\\equiv$ linear approximation of $f$\n",
    "- Newton method $\\equiv$ **quadratic** approximation of $f$:\n",
    "\n",
    "$$\n",
    "f(x + h) \\approx f(x) + \\langle f'(x), h \\rangle + \\frac{1}{2}h^{\\top}f''(x)h \\to \\min_{h}\n",
    "$$\n",
    "\n",
    "From the FOOC:\n",
    "\n",
    "$$\n",
    "f'(x) + f''(x) h = 0, \\qquad h^* = -(f''(x))^{-1} f'(x)\n",
    "$$\n"
   ]
  },
  {
   "cell_type": "markdown",
   "metadata": {
    "slideshow": {
     "slide_type": "slide"
    }
   },
   "source": [
    "### Descent direction?\n",
    "\n",
    "Check the sign of $\\langle f'(x), h^* \\rangle$.\n",
    "\n",
    "$$\n",
    "\\langle f'(x), h^* \\rangle = -(f')^{\\top}(x) (f''(x))^{-1} f'(x) < 0 \\Leftarrow f''(x) \\succ 0\n",
    "$$"
   ]
  },
  {
   "cell_type": "markdown",
   "metadata": {
    "slideshow": {
     "slide_type": "slide"
    }
   },
   "source": [
    "## Newton method\n",
    "\n",
    "```python\n",
    "def NewtonMethod(f, x0, epsilon, **kwargs):\n",
    "    \n",
    "    x = x0\n",
    "    \n",
    "    while True:\n",
    "        \n",
    "        h = ComputeNewtonStep(x, f, **kwargs)\n",
    "        \n",
    "        if StopCriterion(x, f, h, **kwargs) < epsilon:\n",
    "            \n",
    "            break\n",
    "            \n",
    "        alpha = SelectStepSize(x, h, f, **kwargs)\n",
    "            \n",
    "        x = x + alpha * h\n",
    "            \n",
    "    return x\n",
    "\n",
    "```"
   ]
  },
  {
   "cell_type": "markdown",
   "metadata": {
    "slideshow": {
     "slide_type": "slide"
    }
   },
   "source": [
    "### Example\n",
    "\n",
    "Find the root of the following test function \n",
    "\n",
    "$$\n",
    "\\varphi(t) = \\dfrac{t}{\\sqrt{1+t^2}}\n",
    "$$\n",
    "\n",
    "and define the convergence region"
   ]
  },
  {
   "cell_type": "markdown",
   "metadata": {
    "slideshow": {
     "slide_type": "slide"
    }
   },
   "source": [
    "## Computational experiments and convergence"
   ]
  },
  {
   "cell_type": "markdown",
   "metadata": {
    "collapsed": true,
    "slideshow": {
     "slide_type": "fragment"
    }
   },
   "source": [
    "Bottlenecks in Newton method\n",
    "\n",
    "- hessian\n",
    "- linear system\n",
    "\n",
    "$$\n",
    "f''(x_k)h = -f'(x_k)\n",
    "$$"
   ]
  },
  {
   "cell_type": "markdown",
   "metadata": {
    "slideshow": {
     "slide_type": "slide"
    }
   },
   "source": [
    "### Compare with gradient descent\n",
    "\n",
    "\n",
    "$$\n",
    "f(x) = - \\sum_{i=1}^m \\log(1 - a_i^{\\top}x) - \\sum\\limits_{i = 1}^n \\log (1 - x^2_i) \\to \\min_x\n",
    "$$\n",
    "\n",
    "$$\n",
    "f'(x) - ? \\quad f''(x) - ?\n",
    "$$ "
   ]
  },
  {
   "cell_type": "code",
   "execution_count": 3,
   "metadata": {
    "slideshow": {
     "slide_type": "fragment"
    }
   },
   "outputs": [],
   "source": [
    "import numpy as np\n",
    "\n",
    "import liboptpy.unconstr_solvers as methods\n",
    "import liboptpy.step_size as ss\n",
    "\n",
    "n = 1000\n",
    "m = 200\n",
    "x0 = np.zeros((n,))\n",
    "A = np.random.rand(n, m) * 10"
   ]
  },
  {
   "cell_type": "markdown",
   "metadata": {
    "slideshow": {
     "slide_type": "slide"
    }
   },
   "source": [
    "#### Exact solution with CVXPy"
   ]
  },
  {
   "cell_type": "code",
   "execution_count": 4,
   "metadata": {
    "slideshow": {
     "slide_type": "fragment"
    }
   },
   "outputs": [
    {
     "name": "stdout",
     "output_type": "stream",
     "text": [
      "----------------------------------------------------------------------------\n",
      "\tSCS v1.2.6 - Splitting Conic Solver\n",
      "\t(c) Brendan O'Donoghue, Stanford University, 2012-2016\n",
      "----------------------------------------------------------------------------\n",
      "Lin-sys: sparse-indirect, nnz in A = 205200, CG tol ~ 1/iter^(2.00)\n",
      "eps = 1.00e-04, alpha = 1.50, max_iters = 1000, normalize = 1, scale = 1.00\n",
      "Variables n = 3200, constraints m = 6600\n",
      "Cones:\tsoc vars: 3000, soc blks: 1000\n",
      "\texp vars: 3600, dual exp vars: 0\n",
      "Setup time: 8.47e-03s\n",
      "----------------------------------------------------------------------------\n",
      " Iter | pri res | dua res | rel gap | pri obj | dua obj | kap/tau | time (s)\n",
      "----------------------------------------------------------------------------\n",
      "     0|      inf       inf       nan      -inf      -inf       inf  2.43e-02 \n",
      "   100| 1.62e+01  3.27e+00  9.84e-03 -8.78e+03 -8.61e+03  1.82e-13  1.07e+00 \n",
      "   200| 1.44e+00  9.75e-01  1.69e-03 -1.94e+03 -1.93e+03  3.25e-13  2.17e+00 \n",
      "   300| 4.53e-01  5.36e-01  2.14e-04 -1.60e+03 -1.60e+03  3.44e-13  3.18e+00 \n",
      "   400| 2.20e-01  2.78e-01  1.07e-04 -1.47e+03 -1.47e+03  3.45e-13  4.24e+00 \n",
      "   500| 1.30e-01  1.30e-01  1.62e-04 -1.41e+03 -1.41e+03  3.43e-13  5.42e+00 \n",
      "   600| 7.60e-02  4.82e-02  1.24e-04 -1.38e+03 -1.39e+03  3.40e-13  6.68e+00 \n",
      "   700| 3.82e-02  9.95e-03  6.80e-05 -1.37e+03 -1.37e+03  3.38e-13  7.94e+00 \n",
      "   800| 1.62e-02  3.12e-03  2.64e-05 -1.37e+03 -1.37e+03  3.37e-13  9.18e+00 \n",
      "   900| 7.83e-03  4.81e-03  5.43e-06 -1.37e+03 -1.37e+03  3.37e-13  1.04e+01 \n",
      "  1000| 6.40e-03  3.14e-03  1.69e-06 -1.37e+03 -1.37e+03  3.37e-13  1.15e+01 \n",
      "----------------------------------------------------------------------------\n",
      "Status: Solved/Inaccurate\n",
      "Hit max_iters, solution may be inaccurate\n",
      "Timing: Solve time: 1.15e+01s\n",
      "\tLin-sys: avg # CG iterations: 3.42, avg solve time: 3.43e-03s\n",
      "\tCones: avg projection time: 7.96e-03s\n",
      "----------------------------------------------------------------------------\n",
      "Error metrics:\n",
      "dist(s, K) = 2.2716e-02, dist(y, K*) = 2.2204e-16, s'y/|s||y| = -3.8184e-11\n",
      "|Ax + s - b|_2 / (1 + |b|_2) = 6.3953e-03\n",
      "|A'y + c|_2 / (1 + |c|_2) = 3.1380e-03\n",
      "|c'x + b'y| / (1 + |c'x| + |b'y|) = 1.6882e-06\n",
      "----------------------------------------------------------------------------\n",
      "c'x = -1367.4832, -b'y = -1367.4786\n",
      "============================================================================\n",
      "Optimal value = -1367.4831809260274\n"
     ]
    }
   ],
   "source": [
    "import cvxpy as cvx\n",
    "x = cvx.Variable((n, 1))\n",
    "\n",
    "obj = cvx.Minimize(cvx.sum(-cvx.log(1 - A.T * x)) - \n",
    "                   cvx.sum(cvx.log(1 - cvx.square(x))))\n",
    "prob = cvx.Problem(obj)\n",
    "prob.solve(solver=\"SCS\", verbose=True, max_iters=1000)\n",
    "print(\"Optimal value =\", prob.value)"
   ]
  },
  {
   "cell_type": "markdown",
   "metadata": {
    "slideshow": {
     "slide_type": "slide"
    }
   },
   "source": [
    "#### Auxilliary functions"
   ]
  },
  {
   "cell_type": "code",
   "execution_count": 5,
   "metadata": {
    "slideshow": {
     "slide_type": "fragment"
    }
   },
   "outputs": [],
   "source": [
    "f = lambda x: -np.sum(np.log(1 - A.T.dot(x))) - np.sum(np.log(1 - x*x))\n",
    "grad_f = lambda x: np.sum(A.dot(np.diagflat(1 / (1 - A.T.dot(x)))), axis=1) + 2 * x / (1 - np.power(x, 2))\n",
    "hess_f = lambda x: (A.dot(np.diagflat(1 / (1 - A.T.dot(x))**2))).dot(A.T) + np.diagflat(2 * (1 + x**2) / (1 - x**2)**2)"
   ]
  },
  {
   "cell_type": "markdown",
   "metadata": {
    "slideshow": {
     "slide_type": "slide"
    }
   },
   "source": [
    "#### Newton method implementations"
   ]
  },
  {
   "cell_type": "code",
   "execution_count": 6,
   "metadata": {
    "slideshow": {
     "slide_type": "fragment"
    }
   },
   "outputs": [],
   "source": [
    "def Newton(f, gradf, hessf, x0, epsilon, num_iter, line_search, \n",
    "                    disp=False, callback=None, **kwargs):\n",
    "    x = x0.copy()\n",
    "    iteration = 0\n",
    "    opt_arg = {\"f\": f, \"grad_f\": gradf}\n",
    "    for key in kwargs:\n",
    "        opt_arg[key] = kwargs[key]\n",
    "    while True:\n",
    "        gradient = gradf(x)\n",
    "        hess = hessf(x)\n",
    "        h = np.linalg.solve(hess, -gradient)\n",
    "        alpha = line_search(x, h, **opt_arg)\n",
    "        x = x + alpha * h\n",
    "        if callback is not None:\n",
    "            callback(x)\n",
    "        iteration += 1\n",
    "        if disp:\n",
    "            print(\"Current function val =\", f(x))\n",
    "            print(\"Current gradient norm = \", np.linalg.norm(gradf(x)))\n",
    "        if np.linalg.norm(gradf(x)) < epsilon:\n",
    "            break\n",
    "        if iteration >= num_iter:\n",
    "            break\n",
    "    res = {\"x\": x, \"num_iter\": iteration, \"tol\": np.linalg.norm(gradf(x))}\n",
    "    return res"
   ]
  },
  {
   "cell_type": "markdown",
   "metadata": {
    "slideshow": {
     "slide_type": "slide"
    }
   },
   "source": [
    "#### GD vs Newton"
   ]
  },
  {
   "cell_type": "code",
   "execution_count": 27,
   "metadata": {
    "slideshow": {
     "slide_type": "fragment"
    }
   },
   "outputs": [
    {
     "name": "stdout",
     "output_type": "stream",
     "text": [
      "Required tolerance achieved!\n",
      "Convergence in 15 iterations\n",
      "Function value = -1368.4658923914208\n",
      "Norm of gradient = 3.2463346493679536e-15\n"
     ]
    },
    {
     "name": "stderr",
     "output_type": "stream",
     "text": [
      "/Users/alex/anaconda3/envs/cvxpy/lib/python3.6/site-packages/ipykernel_launcher.py:1: RuntimeWarning: invalid value encountered in log\n",
      "  \"\"\"Entry point for launching an IPython kernel.\n"
     ]
    },
    {
     "name": "stdout",
     "output_type": "stream",
     "text": [
      "Required tolerance achieved!\n",
      "Convergence in 71 iterations\n",
      "Function value = -1368.465892391421\n",
      "Norm of gradient = 4.2622055811059246e-07\n"
     ]
    }
   ],
   "source": [
    "newton = methods.so.NewtonMethod(f, grad_f, hess_f, ss.ConstantStepSize(1.))\n",
    "x_newton = newton.solve(x0, tol=1e-10, max_iter=50, disp=True)\n",
    "\n",
    "gd = methods.fo.GradientDescent(f, grad_f, ss.Backtracking(\"Armijo\", rho=0.999, beta=0.1, init_alpha=1.))\n",
    "x_gd = gd.solve(x0, tol=1e-6, max_iter=100, disp=True)"
   ]
  },
  {
   "cell_type": "code",
   "execution_count": 28,
   "metadata": {
    "slideshow": {
     "slide_type": "slide"
    }
   },
   "outputs": [
    {
     "data": {
      "text/plain": [
       "<matplotlib.legend.Legend at 0x7f9668d56da0>"
      ]
     },
     "execution_count": 28,
     "metadata": {},
     "output_type": "execute_result"
    },
    {
     "data": {
      "image/png": "[encoded data removed]",
      "text/plain": [
       "<Figure size 864x576 with 1 Axes>"
      ]
     },
     "metadata": {},
     "output_type": "display_data"
    }
   ],
   "source": [
    "%matplotlib inline\n",
    "import matplotlib.pyplot as plt\n",
    "plt.rc(\"text\", usetex=True)\n",
    "    \n",
    "plt.figure(figsize=(12, 8))\n",
    "# Newton\n",
    "plt.semilogy([np.linalg.norm(grad_f(x)) for x in newton.get_convergence()], label=\"$\\| f'(x_k) \\|^{N}_2$\")\n",
    "# Gradient\n",
    "plt.semilogy([np.linalg.norm(grad_f(x)) for x in gd.get_convergence()], label=\"$\\| f'(x_k) \\|^{G}_2$\")\n",
    "plt.xlabel(r\"Number of iterations, $k$\", fontsize=26)\n",
    "plt.ylabel(r\"Convergence rate\", fontsize=26)\n",
    "plt.xticks(fontsize = 24)\n",
    "plt.yticks(fontsize = 24)\n",
    "plt.legend(loc=\"best\", fontsize=24)"
   ]
  },
  {
   "cell_type": "markdown",
   "metadata": {
    "slideshow": {
     "slide_type": "slide"
    }
   },
   "source": [
    "#### Runtime comparison"
   ]
  },
  {
   "cell_type": "code",
   "execution_count": 18,
   "metadata": {
    "slideshow": {
     "slide_type": "fragment"
    }
   },
   "outputs": [
    {
     "name": "stdout",
     "output_type": "stream",
     "text": [
      "337 ms ± 13.5 ms per loop (mean ± std. dev. of 7 runs, 1 loop each)\n"
     ]
    },
    {
     "name": "stderr",
     "output_type": "stream",
     "text": [
      "/Users/alex/anaconda3/envs/cvxpy/lib/python3.6/site-packages/ipykernel_launcher.py:1: RuntimeWarning: invalid value encountered in log\n",
      "  \"\"\"Entry point for launching an IPython kernel.\n"
     ]
    },
    {
     "name": "stdout",
     "output_type": "stream",
     "text": [
      "207 ms ± 21.3 ms per loop (mean ± std. dev. of 7 runs, 1 loop each)\n"
     ]
    }
   ],
   "source": [
    "%timeit newton.solve(x0, tol=1e-6, max_iter=50)\n",
    "%timeit gd.solve(x0, tol=1e-6, max_iter=50)"
   ]
  },
  {
   "cell_type": "code",
   "execution_count": null,
   "metadata": {},
   "outputs": [],
   "source": []
  },
  {
   "cell_type": "code",
   "execution_count": null,
   "metadata": {},
   "outputs": [],
   "source": []
  },
  {
   "cell_type": "code",
   "execution_count": null,
   "metadata": {},
   "outputs": [],
   "source": []
  },
  {
   "cell_type": "markdown",
   "metadata": {
    "slideshow": {
     "slide_type": "slide"
    }
   },
   "source": [
    "## General scheme of quasi-Newton methods\n",
    "\n",
    "```python\n",
    "def QuasiNewtonMethod(f, x0, epsilon, **kwargs):\n",
    "    \n",
    "    x = x0\n",
    "    \n",
    "    H = I\n",
    "    \n",
    "    while True:\n",
    "        \n",
    "        h = -H.dot(grad_f(x))\n",
    "        \n",
    "        if StopCriterion(x, f, h, **kwargs) < epsilon:\n",
    "            \n",
    "            break\n",
    "            \n",
    "        alpha = SelectStepSize(x, h, f, **kwargs)\n",
    "            \n",
    "        x = x + alpha * h\n",
    "            \n",
    "        H = UpdateH(H, f(x), grad_f(x))\n",
    "            \n",
    "    return x\n",
    "```"
   ]
  },
  {
   "cell_type": "markdown",
   "metadata": {
    "slideshow": {
     "slide_type": "slide"
    }
   },
   "source": [
    "## BFGS\n",
    "\n",
    "\\begin{align*}\n",
    "& \\min_H \\| H_k - H \\| \\\\\n",
    "\\text{s.t. } & H = H^{\\top}\\\\\n",
    "& Hy_k = s_k\n",
    "\\end{align*}"
   ]
  },
  {
   "cell_type": "markdown",
   "metadata": {
    "slideshow": {
     "slide_type": "slide"
    }
   },
   "source": [
    "The solution of this problem BFGS:\n",
    "\n",
    "$$\n",
    "H_{k+1} = (I - \\rho_k s_ky^{\\top}_k)H_k(I - \\rho_k y_k s^{\\top}_k) + \\rho_k s_k s^{\\top}_k,\n",
    "$$\n",
    "\n",
    "where $\\rho_k = \\dfrac{1}{y^{\\top}_k s_k}$"
   ]
  },
  {
   "cell_type": "markdown",
   "metadata": {
    "slideshow": {
     "slide_type": "slide"
    }
   },
   "source": [
    "```python\n",
    "def update_H(x_next, x_current):\n",
    "    \n",
    "    current_grad = grad(x_next)\n",
    "    \n",
    "    s = x_next - x_current\n",
    "    \n",
    "    y = current_grad - grad_mem[-1]\n",
    "    \n",
    "    rho = 1. / y.dot(s)\n",
    "    \n",
    "    if H is None:\n",
    "        \n",
    "        H = np.eye(x_current.shape[0]) / y.dot(y) / rho\n",
    "        \n",
    "    Hy = H.dot(y)\n",
    "    \n",
    "    Hys = np.outer(Hy, s)\n",
    "    \n",
    "    ss = np.outer(s, s)\n",
    "    \n",
    "    H = H + rho * ss - rho * Hys - rho * Hys.T + rho**2 * y.dot(Hy) * ss\n",
    "    \n",
    "    x_current = x_next\n",
    "    \n",
    "    return H\n",
    "```"
   ]
  },
  {
   "cell_type": "markdown",
   "metadata": {
    "slideshow": {
     "slide_type": "slide"
    }
   },
   "source": [
    "## L-BFGS"
   ]
  },
  {
   "cell_type": "markdown",
   "metadata": {
    "slideshow": {
     "slide_type": "slide"
    }
   },
   "source": [
    "```python\n",
    "def get_lbfgs_direction(x):\n",
    "    \n",
    "    if H is None:\n",
    "        \n",
    "        current_grad = grad(x)\n",
    "        \n",
    "        return -current_grad\n",
    "    \n",
    "    else:\n",
    "        \n",
    "        q = current_grad\n",
    "        \n",
    "        alpha = np.zeros(len(s_hist))\n",
    "        \n",
    "        rho = np.zeros(len(s_hist))\n",
    "        \n",
    "        for i in range(len(s_hist) - 1, -1, -1):\n",
    "            \n",
    "            rho[i] = 1. / s_hist[i].dot(y_hist[i])\n",
    "            \n",
    "            alpha[i] = s_hist[i].dot(q) * rho[i]\n",
    "            \n",
    "            q = q - alpha[i] * y_hist[i]\n",
    "            \n",
    "        r = q * H\n",
    "        \n",
    "        for i in range(len(s_hist)):\n",
    "            \n",
    "            beta = rho[i] * y_hist[i].dot(r)\n",
    "            \n",
    "            r = r + s_hist[i] * (alpha[i] - beta)\n",
    "            \n",
    "    return -r\n",
    "\n",
    "```"
   ]
  },
  {
   "cell_type": "markdown",
   "metadata": {
    "slideshow": {
     "slide_type": "slide"
    }
   },
   "source": [
    "$$\n",
    "f(x) = - \\sum_{i=1}^m \\log(1 - a_i^{\\top}x) - \\sum\\limits_{i = 1}^n \\log (1 - x^2_i) \\to \\min_x\n",
    "$$"
   ]
  },
  {
   "cell_type": "code",
   "execution_count": 1,
   "metadata": {
    "slideshow": {
     "slide_type": "slide"
    }
   },
   "outputs": [],
   "source": [
    "import numpy as np\n",
    "import liboptpy.unconstr_solvers as methods\n",
    "import liboptpy.step_size as ss\n",
    "%matplotlib inline\n",
    "import matplotlib.pyplot as plt\n",
    "import scipy.optimize as scopt\n",
    "plt.rc(\"text\", usetex=True)"
   ]
  },
  {
   "cell_type": "code",
   "execution_count": 2,
   "metadata": {
    "slideshow": {
     "slide_type": "slide"
    }
   },
   "outputs": [],
   "source": [
    "n = 3000\n",
    "m = 100\n",
    "x0 = np.zeros(n)\n",
    "max_iter = 100\n",
    "tol = 1e-5\n",
    "A = np.random.rand(m, n) * 10"
   ]
  },
  {
   "cell_type": "code",
   "execution_count": 3,
   "metadata": {
    "slideshow": {
     "slide_type": "slide"
    }
   },
   "outputs": [],
   "source": [
    "f = lambda x: -np.sum(np.log(1 - A.dot(x))) - np.sum(np.log(1 - x*x))\n",
    "grad_f = lambda x: np.sum(A.T / (1 - A.dot(x)), axis=1) + 2 * x / (1 - np.power(x, 2))"
   ]
  },
  {
   "cell_type": "code",
   "execution_count": 4,
   "metadata": {
    "slideshow": {
     "slide_type": "slide"
    }
   },
   "outputs": [],
   "source": [
    "def bb_method(f, gradf, x0, tol=1e-6, maxiter=100, callback=None, alpha_type=1):\n",
    "    it = 0\n",
    "    x_prev = x0.copy()\n",
    "    current_tol = np.linalg.norm(gradf(x_prev))\n",
    "    alpha = 1e-4\n",
    "    while current_tol > tol and it < maxiter:\n",
    "        it += 1\n",
    "        current_grad = gradf(x_prev)\n",
    "        if it != 1:\n",
    "            g = current_grad - prev_grad\n",
    "            if alpha_type == 1:\n",
    "                alpha = g.dot(s) / g.dot(g)\n",
    "            elif alpha_type == 2:\n",
    "                alpha = s.dot(s) / g.dot(s)\n",
    "        if callback:\n",
    "            callback(x_prev)\n",
    "        x_next = x_prev - alpha * current_grad\n",
    "        current_tol = np.linalg.norm(gradf(x_next))\n",
    "        prev_grad = current_grad\n",
    "        s = x_next - x_prev\n",
    "        x_prev = x_next\n",
    "    if callback:\n",
    "        callback(x_prev)\n",
    "    return x_next"
   ]
  },
  {
   "cell_type": "code",
   "execution_count": 5,
   "metadata": {
    "slideshow": {
     "slide_type": "slide"
    }
   },
   "outputs": [],
   "source": [
    "method = {\n",
    "    \"BB 1\": methods.fo.BarzilaiBorweinMethod(f, grad_f, init_alpha=1e-4, type=1),\n",
    "    \"BFGS\": methods.fo.BFGS(f, grad_f),\n",
    "    \"DFP\": methods.fo.DFP(f, grad_f),\n",
    "}"
   ]
  },
  {
   "cell_type": "code",
   "execution_count": 8,
   "metadata": {
    "slideshow": {
     "slide_type": "slide"
    }
   },
   "outputs": [
    {
     "name": "stdout",
     "output_type": "stream",
     "text": [
      "\t Method BB 1\n",
      "Required tolerance achieved!\n",
      "Convergence in 10 iterations\n",
      "Function value = -706.7687437953065\n",
      "Norm of gradient = 5.460700738791853e-06\n",
      "\t Method BFGS\n"
     ]
    },
    {
     "name": "stderr",
     "output_type": "stream",
     "text": [
      "/Users/alex/anaconda3/envs/cvxpy/lib/python3.6/site-packages/ipykernel_launcher.py:1: RuntimeWarning: invalid value encountered in log\n",
      "  \"\"\"Entry point for launching an IPython kernel.\n"
     ]
    },
    {
     "name": "stdout",
     "output_type": "stream",
     "text": [
      "Required tolerance achieved!\n",
      "Convergence in 24 iterations\n",
      "Function value = -706.7687437952978\n",
      "Norm of gradient = 7.209357816537315e-06\n",
      "\t Method DFP\n",
      "Maximum iteration exceeds!\n",
      "Convergence in 100 iterations\n",
      "Function value = -706.7684195731213\n",
      "Norm of gradient = 0.043645355482975275\n",
      "\t Method BFGS Scipy\n",
      "Result: Optimization terminated successfully.\n",
      "Convergence in 16 iterations\n",
      "Function value = -706.7687437952909\n",
      "\t Method L-BFGS Scipy\n",
      "Result: b'CONVERGENCE: REL_REDUCTION_OF_F_<=_FACTR*EPSMCH'\n",
      "Convergence in 12 iterations\n",
      "Function value = -706.7687437953103\n"
     ]
    }
   ],
   "source": [
    "for m in method:\n",
    "    print(\"\\t Method {}\".format(m))\n",
    "    _ = method[m].solve(x0=x0, tol=tol, max_iter=max_iter, disp=True)\n",
    "\n",
    "print(\"\\t Method BFGS Scipy\")\n",
    "scopt_conv = []\n",
    "scopt_res = scopt.minimize(f, x0, method=\"BFGS\", jac=grad_f, callback=lambda x: scopt_conv.append(x), \n",
    "                           tol=tol, options={\"maxiter\": max_iter})\n",
    "print(\"Result: {}\".format(scopt_res.message))\n",
    "if scopt_res.success:\n",
    "    print(\"Convergence in {} iterations\".format(scopt_res.nit))\n",
    "print(\"Function value = {}\".format(f(scopt_res.x)))\n",
    "\n",
    "print(\"\\t Method L-BFGS Scipy\")\n",
    "scopt_conv_l = []\n",
    "scopt_res = scopt.minimize(f, x0, method=\"L-BFGS-B\", jac=grad_f, callback=lambda x: scopt_conv_l.append(x), \n",
    "                           tol=1e-5*tol, options={\"maxiter\": max_iter, 'maxcor': 3})\n",
    "print(\"Result: {}\".format(scopt_res.message))\n",
    "if scopt_res.success:\n",
    "    print(\"Convergence in {} iterations\".format(scopt_res.nit))\n",
    "print(\"Function value = {}\".format(f(scopt_res.x)))"
   ]
  },
  {
   "cell_type": "code",
   "execution_count": 9,
   "metadata": {
    "slideshow": {
     "slide_type": "slide"
    }
   },
   "outputs": [
    {
     "data": {
      "image/png": "[encoded data removed]",
      "text/plain": [
       "<Figure size 576x432 with 1 Axes>"
      ]
     },
     "metadata": {},
     "output_type": "display_data"
    }
   ],
   "source": [
    "plt.figure(figsize=(8, 6))\n",
    "\n",
    "for m in method:\n",
    "    plt.semilogy([np.linalg.norm(grad_f(x)) for x in method[m].get_convergence()], label=m)\n",
    "\n",
    "plt.semilogy([np.linalg.norm(grad_f(x)) for x in [x0] + scopt_conv], label=\"BFGS SciPy\")\n",
    "plt.semilogy([np.linalg.norm(grad_f(x)) for x in [x0] + scopt_conv_l], label=\"L-BFGS SciPy\")\n",
    "plt.ylabel(\"$\\|f'(x_k)\\|_2$\", fontsize=18)\n",
    "plt.xlabel(\"Number of iterations, $k$\", fontsize=18)\n",
    "plt.legend(fontsize=18)\n",
    "plt.xticks(fontsize=18)\n",
    "_ = plt.yticks(fontsize=18)"
   ]
  },
  {
   "cell_type": "code",
   "execution_count": 11,
   "metadata": {
    "slideshow": {
     "slide_type": "slide"
    }
   },
   "outputs": [
    {
     "name": "stdout",
     "output_type": "stream",
     "text": [
      "\t Method BB 1\n",
      "8.35 ms ± 1.81 ms per loop (mean ± std. dev. of 7 runs, 100 loops each)\n",
      "\t Method BFGS\n"
     ]
    },
    {
     "name": "stderr",
     "output_type": "stream",
     "text": [
      "/Users/alex/anaconda3/envs/cvxpy/lib/python3.6/site-packages/ipykernel_launcher.py:1: RuntimeWarning: invalid value encountered in log\n",
      "  \"\"\"Entry point for launching an IPython kernel.\n"
     ]
    },
    {
     "name": "stdout",
     "output_type": "stream",
     "text": [
      "5.34 s ± 109 ms per loop (mean ± std. dev. of 7 runs, 1 loop each)\n",
      "\t Method DFP\n"
     ]
    },
    {
     "name": "stderr",
     "output_type": "stream",
     "text": [
      "/Users/alex/anaconda3/envs/cvxpy/lib/python3.6/site-packages/ipykernel_launcher.py:1: RuntimeWarning: invalid value encountered in log\n",
      "  \"\"\"Entry point for launching an IPython kernel.\n"
     ]
    },
    {
     "name": "stdout",
     "output_type": "stream",
     "text": [
      "9.47 s ± 256 ms per loop (mean ± std. dev. of 7 runs, 1 loop each)\n",
      "15.7 s ± 268 ms per loop (mean ± std. dev. of 7 runs, 1 loop each)\n",
      "15.3 ms ± 409 µs per loop (mean ± std. dev. of 7 runs, 100 loops each)\n"
     ]
    }
   ],
   "source": [
    "for m in method:\n",
    "    print(\"\\t Method {}\".format(m))\n",
    "    %timeit method[m].solve(x0=x0, tol=tol, max_iter=max_iter)\n",
    "\n",
    "%timeit scopt.minimize(f, x0, method=\"BFGS\", jac=grad_f, tol=tol, options={\"maxiter\": max_iter})\n",
    "%timeit scopt.minimize(f, x0, method=\"L-BFGS-B\", jac=grad_f, callback=lambda x: scopt_conv_l.append(x), tol=1e-5*tol, options={\"maxiter\": max_iter, 'maxcor': 5})"
   ]
  },
  {
   "cell_type": "markdown",
   "metadata": {
    "slideshow": {
     "slide_type": "slide"
    }
   },
   "source": [
    "### Ill-conditioned problem"
   ]
  },
  {
   "cell_type": "code",
   "execution_count": 12,
   "metadata": {
    "slideshow": {
     "slide_type": "slide"
    }
   },
   "outputs": [
    {
     "name": "stdout",
     "output_type": "stream",
     "text": [
      "Condition number = 50.000000000001855\n"
     ]
    }
   ],
   "source": [
    "n = 50\n",
    "D = np.arange(1, n+1)\n",
    "U = np.random.randn(n, n)\n",
    "U, _ = np.linalg.qr(U)\n",
    "A = U.dot(np.diag(D)).dot(U.T)\n",
    "b = np.random.randn(n)\n",
    "eig_vals = np.linalg.eigvals(A)\n",
    "print(\"Condition number = {}\".format(np.max(eig_vals) / np.min(eig_vals)))"
   ]
  },
  {
   "cell_type": "code",
   "execution_count": 13,
   "metadata": {
    "slideshow": {
     "slide_type": "slide"
    }
   },
   "outputs": [],
   "source": [
    "f = lambda x: 0.5 * x.T.dot(A.dot(x)) - b.dot(x)\n",
    "gradf = lambda x: A.dot(x) - b\n",
    "x0 = np.random.randn(n)"
   ]
  },
  {
   "cell_type": "code",
   "execution_count": 15,
   "metadata": {
    "slideshow": {
     "slide_type": "slide"
    }
   },
   "outputs": [],
   "source": [
    "method = {\n",
    "    \"BB 1\": methods.fo.BarzilaiBorweinMethod(f, gradf, init_alpha=1e-4, type=1),\n",
    "#     \"BB 2\": methods.fo.BarzilaiBorweinMethod(f, gradf, init_alpha=1e-4, type=2),\n",
    "    \"BFGS\": methods.fo.BFGS(f, gradf),\n",
    "    \"GD\": methods.fo.GradientDescent(f, gradf, ss.ExactLineSearch4Quad(A, b)),\n",
    "}"
   ]
  },
  {
   "cell_type": "code",
   "execution_count": 16,
   "metadata": {
    "slideshow": {
     "slide_type": "slide"
    }
   },
   "outputs": [
    {
     "name": "stdout",
     "output_type": "stream",
     "text": [
      "\t Method BB 1\n",
      "Required tolerance achieved!\n",
      "Convergence in 60 iterations\n",
      "Function value = -2.0030454977090724\n",
      "Norm of gradient = 6.345488588012578e-06\n",
      "\t Method BFGS\n",
      "Required tolerance achieved!\n",
      "Convergence in 48 iterations\n",
      "Function value = -2.0030454977107492\n",
      "Norm of gradient = 5.196150665874287e-06\n",
      "\t Method GD\n",
      "Maximum iteration exceeds!\n",
      "Convergence in 100 iterations\n",
      "Function value = -2.002800901138947\n",
      "Norm of gradient = 0.031025105422435823\n",
      "\t Method BFGS Scipy\n",
      "Result: Optimization terminated successfully.\n",
      "Convergence in 60 iterations\n",
      "Function value = -2.00304549771153\n",
      "\t Method L-BFGS Scipy\n",
      "Result: b'CONVERGENCE: REL_REDUCTION_OF_F_<=_FACTR*EPSMCH'\n",
      "Convergence in 41 iterations\n",
      "Function value = -2.003045497603375\n"
     ]
    }
   ],
   "source": [
    "for m in method:\n",
    "    print(\"\\t Method {}\".format(m))\n",
    "    _ = method[m].solve(x0=x0, tol=tol, max_iter=max_iter, disp=True)\n",
    "\n",
    "print(\"\\t Method BFGS Scipy\")\n",
    "\n",
    "scopt_conv = []\n",
    "scopt_res = scopt.minimize(f, x0, method=\"BFGS\", jac=gradf, callback=lambda x: scopt_conv.append(x), \n",
    "                           tol=tol, options={\"maxiter\": max_iter})\n",
    "print(\"Result: {}\".format(scopt_res.message))\n",
    "if scopt_res.success:\n",
    "    print(\"Convergence in {} iterations\".format(scopt_res.nit))\n",
    "print(\"Function value = {}\".format(f(scopt_res.x)))\n",
    "\n",
    "print(\"\\t Method L-BFGS Scipy\")\n",
    "\n",
    "scopt_lbfgs_conv = []\n",
    "scopt_res = scopt.minimize(f, x0, method=\"L-BFGS-B\", jac=gradf, tol=tol, \n",
    "                           options={\"maxiter\": max_iter, 'maxcor': 10, \"ftol\": 1e-10, \"gtol\": 1e-6},\n",
    "                           callback=lambda x: scopt_lbfgs_conv.append(x),\n",
    "                           )\n",
    "print(\"Result: {}\".format(scopt_res.message))\n",
    "if scopt_res.success:\n",
    "    print(\"Convergence in {} iterations\".format(scopt_res.nit))\n",
    "print(\"Function value = {}\".format(f(scopt_res.x)))"
   ]
  },
  {
   "cell_type": "code",
   "execution_count": 17,
   "metadata": {
    "slideshow": {
     "slide_type": "slide"
    }
   },
   "outputs": [
    {
     "data": {
      "image/png": "[encoded data removed]",
      "text/plain": [
       "<Figure size 864x576 with 1 Axes>"
      ]
     },
     "metadata": {},
     "output_type": "display_data"
    }
   ],
   "source": [
    "plt.figure(figsize=(12, 8))\n",
    "fontsize = 26\n",
    "for m in method:   \n",
    "    plt.semilogy([np.linalg.norm(gradf(x)) for x in method[m].get_convergence()], label=m)\n",
    "\n",
    "plt.semilogy([np.linalg.norm(gradf(x)) for x in [x0] + scopt_conv], label='BFGS SciPy')\n",
    "\n",
    "plt.semilogy([np.linalg.norm(gradf(x)) for x in [x0] + scopt_lbfgs_conv], label='LBFGS SciPy')\n",
    "plt.legend(fontsize=fontsize)\n",
    "plt.ylabel(\"$\\|f'(x_k)\\|_2$\", fontsize=fontsize)\n",
    "plt.xlabel(\"Number of iterations, $k$\", fontsize=fontsize)\n",
    "plt.xticks(fontsize=fontsize)\n",
    "_ = plt.yticks(fontsize=fontsize)"
   ]
  },
  {
   "cell_type": "code",
   "execution_count": 45,
   "metadata": {
    "slideshow": {
     "slide_type": "slide"
    }
   },
   "outputs": [
    {
     "name": "stdout",
     "output_type": "stream",
     "text": [
      "\t Method BB 1\n",
      "893 µs ± 89.5 µs per loop (mean ± std. dev. of 7 runs, 1000 loops each)\n",
      "\t Method BB 2\n",
      "1.14 ms ± 71.7 µs per loop (mean ± std. dev. of 7 runs, 1000 loops each)\n",
      "\t Method BFGS\n",
      "3.72 ms ± 94.1 µs per loop (mean ± std. dev. of 7 runs, 100 loops each)\n",
      "\t Method DFP\n",
      "7.18 ms ± 490 µs per loop (mean ± std. dev. of 7 runs, 100 loops each)\n",
      "\t Method GD\n",
      "1.74 ms ± 146 µs per loop (mean ± std. dev. of 7 runs, 1000 loops each)\n",
      "\t Method LBFGS\n",
      "5.01 ms ± 248 µs per loop (mean ± std. dev. of 7 runs, 100 loops each)\n",
      "6.33 ms ± 785 µs per loop (mean ± std. dev. of 7 runs, 100 loops each)\n",
      "922 µs ± 67.7 µs per loop (mean ± std. dev. of 7 runs, 1000 loops each)\n"
     ]
    }
   ],
   "source": [
    "for m in method:\n",
    "    print(\"\\t Method {}\".format(m))\n",
    "    %timeit method[m].solve(x0=x0, tol=tol, max_iter=max_iter)\n",
    "\n",
    "%timeit scopt.minimize(f, x0, method=\"BFGS\", jac=gradf, tol=tol, options={\"maxiter\": max_iter})\n",
    "%timeit scopt.minimize(f, x0, method=\"L-BFGS-B\", jac=gradf, tol=tol, options={\"maxiter\": max_iter, 'maxcor': 10, \"ftol\": 1e-10, \"gtol\": 1e-6})"
   ]
  }
 ],
 "metadata": {
  "anaconda-cloud": {},
  "celltoolbar": "Slideshow",
  "kernelspec": {
   "display_name": "Python 3 (cvxpy)",
   "language": "python",
   "name": "cvxpy"
  },
  "language_info": {
   "codemirror_mode": {
    "name": "ipython",
    "version": 3
   },
   "file_extension": ".py",
   "mimetype": "text/x-python",
   "name": "python",
   "nbconvert_exporter": "python",
   "pygments_lexer": "ipython3",
   "version": "3.6.8"
  }
 },
 "nbformat": 4,
 "nbformat_minor": 1
}
